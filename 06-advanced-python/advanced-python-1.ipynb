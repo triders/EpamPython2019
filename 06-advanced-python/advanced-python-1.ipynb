{
 "cells": [
  {
   "cell_type": "code",
   "execution_count": 1,
   "metadata": {
    "slideshow": {
     "slide_type": "skip"
    }
   },
   "outputs": [],
   "source": [
    "import warnings\n",
    "\n",
    "\n",
    "warnings.filterwarnings('ignore')"
   ]
  },
  {
   "cell_type": "markdown",
   "metadata": {
    "slideshow": {
     "slide_type": "slide"
    }
   },
   "source": [
    "# Advanced Python"
   ]
  },
  {
   "cell_type": "markdown",
   "metadata": {
    "slideshow": {
     "slide_type": "slide"
    }
   },
   "source": [
    "## Python Data Model"
   ]
  },
  {
   "cell_type": "code",
   "execution_count": 3,
   "metadata": {},
   "outputs": [
    {
     "name": "stdout",
     "output_type": "stream",
     "text": [
      "Object id: 140713537457360\n",
      "Object type: <class 'NotImplementedType'>\n",
      "Object value: NotImplemented\n",
      "__class__ __delattr__ __dir__ __doc__ __eq__\n",
      "__format__ __ge__ __getattribute__ __gt__ __hash__\n",
      "__init__ __init_subclass__ __le__ __lt__ __ne__\n",
      "__new__ __reduce__ __reduce_ex__ __repr__ __setattr__\n",
      "__sizeof__ __str__ __subclasshook__\n"
     ]
    }
   ],
   "source": [
    "obj = NotImplemented\n",
    "print(f\"Object id: {id(obj)}\")\n",
    "print(f\"Object type: {type(obj)}\")\n",
    "print(f\"Object value: {obj}\") # actually a string representation of the object\n",
    "cols = 5\n",
    "print(\"\\n\".join([\" \".join(method for method in dir(obj)[line*cols: (line+1)*cols]) for line in range(len(dir(obj))//cols + 1)])) # do not do that at home!"
   ]
  },
  {
   "cell_type": "markdown",
   "metadata": {
    "slideshow": {
     "slide_type": "subslide"
    }
   },
   "source": [
    "### Special (magic, dunder) methods\n",
    "\n",
    "- Implement certain operations that are invoked by special syntax or function\n",
    "- Python’s approach to operator overloading\n",
    "- Setting to `None` indicates that the corresponding operation is not available\n",
    "\n",
    "Examples:\n",
    "- `__new__`- called to create a new instance of a class\n",
    "- `__init__` - called after the instance has been created, but before returning\n",
    "- `__del__` - called when the instance is about to be deleted"
   ]
  },
  {
   "cell_type": "markdown",
   "metadata": {
    "slideshow": {
     "slide_type": "subslide"
    }
   },
   "source": [
    "### `__str__` and `__repr__`"
   ]
  },
  {
   "cell_type": "code",
   "execution_count": 4,
   "metadata": {},
   "outputs": [
    {
     "data": {
      "text/plain": [
       "('I am a string.', \"'I am a string.'\")"
      ]
     },
     "execution_count": 4,
     "metadata": {},
     "output_type": "execute_result"
    }
   ],
   "source": [
    "s = \"I am a string.\"\n",
    "s_str = str(s)\n",
    "s_repr = repr(s)\n",
    "s_str, s_repr"
   ]
  },
  {
   "cell_type": "markdown",
   "metadata": {
    "slideshow": {
     "slide_type": "fragment"
    }
   },
   "source": [
    "If at all possible, `__repr__` should look like a valid Python expression that could be used to recreate an object with the same value (given an appropriate environment)."
   ]
  },
  {
   "cell_type": "code",
   "execution_count": 5,
   "metadata": {
    "slideshow": {
     "slide_type": "subslide"
    }
   },
   "outputs": [
    {
     "name": "stdout",
     "output_type": "stream",
     "text": [
      "repr: I am a string.\n"
     ]
    },
    {
     "ename": "SyntaxError",
     "evalue": "invalid syntax (<string>, line 1)",
     "output_type": "error",
     "traceback": [
      "Traceback \u001b[1;36m(most recent call last)\u001b[0m:\n",
      "  File \u001b[0;32m\"C:\\Users\\Artur_Paniukov\\AppData\\Local\\Continuum\\anaconda3\\lib\\site-packages\\IPython\\core\\interactiveshell.py\"\u001b[0m, line \u001b[0;32m3296\u001b[0m, in \u001b[0;35mrun_code\u001b[0m\n    exec(code_obj, self.user_global_ns, self.user_ns)\n",
      "\u001b[1;36m  File \u001b[1;32m\"<ipython-input-5-eb52178e6b38>\"\u001b[1;36m, line \u001b[1;32m2\u001b[1;36m, in \u001b[1;35m<module>\u001b[1;36m\u001b[0m\n\u001b[1;33m    print(f\"str: {eval(s_str)}\")\u001b[0m\n",
      "\u001b[1;36m  File \u001b[1;32m\"<string>\"\u001b[1;36m, line \u001b[1;32m1\u001b[0m\n\u001b[1;33m    I am a string.\u001b[0m\n\u001b[1;37m       ^\u001b[0m\n\u001b[1;31mSyntaxError\u001b[0m\u001b[1;31m:\u001b[0m invalid syntax\n"
     ]
    }
   ],
   "source": [
    "print(f\"repr: {eval(s_repr)}\")\n",
    "print(f\"str: {eval(s_str)}\")"
   ]
  },
  {
   "cell_type": "markdown",
   "metadata": {
    "slideshow": {
     "slide_type": "subslide"
    }
   },
   "source": [
    "### Ordering\n",
    "\n",
    "- `__eq__` $\\Longleftrightarrow$ `==`\n",
    "- `__ne__` $\\Longleftrightarrow$ `!=`\n",
    "- `__lt__` $\\Longleftrightarrow$ `<`\n",
    "- `__gt__` $\\Longleftrightarrow$ `>`\n",
    "- `__le__` $\\Longleftrightarrow$ `<=`\n",
    "- `__ge__` $\\Longleftrightarrow$ `>=`\n",
    "\n",
    "### Arithmetic Operations\n",
    "- `__add__(self, other)` $\\Longleftrightarrow$ `self + other`\n",
    "- `__radd__(self, other)` $\\Longleftrightarrow$ `other + self`\n",
    "- `__iadd__(self, other)` $\\Longleftrightarrow$ `self += other`\n",
    "```\n",
    "...and others\n",
    "```"
   ]
  },
  {
   "cell_type": "code",
   "execution_count": 6,
   "metadata": {
    "slideshow": {
     "slide_type": "subslide"
    }
   },
   "outputs": [
    {
     "data": {
      "text/plain": [
       "(False, True, True, True, False)"
      ]
     },
     "execution_count": 6,
     "metadata": {},
     "output_type": "execute_result"
    }
   ],
   "source": [
    "class OrderedComplex(complex):        \n",
    "    def __eq__(self, other):\n",
    "        if isinstance(other, OrderedComplex):\n",
    "            return (self * self.conjugate()).real == (other * other.conjugate()).real\n",
    "    \n",
    "    def __lt__(self, other):\n",
    "        if isinstance(other, OrderedComplex):\n",
    "            return (self * self.conjugate()).real < (other * other.conjugate()).real\n",
    "    \n",
    "    def __le__(self, other):\n",
    "        if isinstance(other, OrderedComplex):\n",
    "            return (self * self.conjugate()).real <= (other * other.conjugate()).real\n",
    "\n",
    "\n",
    "a = OrderedComplex(1 + 2j)\n",
    "b = OrderedComplex(2 + 1j)\n",
    "\n",
    "a < b, a <= b, a == b, a >=b, a > b"
   ]
  },
  {
   "cell_type": "code",
   "execution_count": 7,
   "metadata": {
    "slideshow": {
     "slide_type": "subslide"
    }
   },
   "outputs": [],
   "source": [
    "import functools\n",
    "\n",
    "??functools.total_ordering"
   ]
  },
  {
   "cell_type": "markdown",
   "metadata": {
    "slideshow": {
     "slide_type": "subslide"
    }
   },
   "source": [
    "### Attribute access\n",
    "\n",
    "- `__getattr__` and `__getattribute__`\n",
    "- `__setattr__`\n",
    "- `__delattr__`"
   ]
  },
  {
   "cell_type": "markdown",
   "metadata": {
    "slideshow": {
     "slide_type": "fragment"
    }
   },
   "source": [
    "`__getattr__` called when the default attribute access fails with an `AttributeError`"
   ]
  },
  {
   "cell_type": "code",
   "execution_count": 8,
   "metadata": {
    "slideshow": {
     "slide_type": "subslide"
    }
   },
   "outputs": [
    {
     "name": "stdout",
     "output_type": "stream",
     "text": [
      "weights: [[1, 2], [3, 4]]\n",
      "bias: [0, 1]\n"
     ]
    }
   ],
   "source": [
    "class Layer:\n",
    "    def __init__(self):\n",
    "        self._params = {}\n",
    "    \n",
    "    def __setattr__(self, key, value):\n",
    "        if not key.startswith(\"_\"):\n",
    "            self._params[key]=value\n",
    "        super().__setattr__(key, value)\n",
    "    \n",
    "    @property\n",
    "    def parameters(self):\n",
    "        return self._params\n",
    "        \n",
    "\n",
    "class LinearLayer(Layer):\n",
    "    def __init__(self, weights, bias):\n",
    "        super().__init__()\n",
    "        \n",
    "        self.weights = weights\n",
    "        self.bias = bias\n",
    "        \n",
    "        \n",
    "layer_1 = LinearLayer([[1, 2], [3, 4]], [0, 1])\n",
    "\n",
    "for key, value in layer_1.parameters.items():\n",
    "    print(f\"{key}: {value}\")"
   ]
  },
  {
   "cell_type": "markdown",
   "metadata": {
    "slideshow": {
     "slide_type": "slide"
    }
   },
   "source": [
    "## Containers\n",
    "\n",
    "Containers usually are **sequences** (such as lists or tuples) or **mappings** (like dictionaries), but can represent other containers as well.\n",
    "\n",
    "- `__len__`\n",
    "```\n",
    "CPython implementation detail: In CPython, the length is required to be at most sys.maxsize.\n",
    "```\n",
    "- `__length_hint__` # called by `operator.length_hint(obj, default=0)`\n",
    "```\n",
    "Return an estimated length for the object o. First try to return its actual length, then an estimate using object.__length_hint__(), and finally return the default value.\n",
    "```"
   ]
  },
  {
   "cell_type": "code",
   "execution_count": 9,
   "metadata": {
    "slideshow": {
     "slide_type": "subslide"
    }
   },
   "outputs": [
    {
     "name": "stdout",
     "output_type": "stream",
     "text": [
      "9223372036854775807, True\n"
     ]
    },
    {
     "ename": "OverflowError",
     "evalue": "Python int too large to convert to C ssize_t",
     "output_type": "error",
     "traceback": [
      "\u001b[1;31m---------------------------------------------------------------------------\u001b[0m",
      "\u001b[1;31mOverflowError\u001b[0m                             Traceback (most recent call last)",
      "\u001b[1;32m<ipython-input-9-b9f03440696a>\u001b[0m in \u001b[0;36m<module>\u001b[1;34m\u001b[0m\n\u001b[0;32m      4\u001b[0m \u001b[0mprint\u001b[0m\u001b[1;33m(\u001b[0m\u001b[1;34mf\"{sys.maxsize}, {sys.maxsize == 2**63 - 1}\"\u001b[0m\u001b[1;33m)\u001b[0m\u001b[1;33m\u001b[0m\u001b[1;33m\u001b[0m\u001b[0m\n\u001b[0;32m      5\u001b[0m \u001b[1;33m\u001b[0m\u001b[0m\n\u001b[1;32m----> 6\u001b[1;33m \u001b[0mlen\u001b[0m\u001b[1;33m(\u001b[0m\u001b[0mrange\u001b[0m\u001b[1;33m(\u001b[0m\u001b[1;36m2\u001b[0m\u001b[1;33m**\u001b[0m\u001b[1;36m63\u001b[0m\u001b[1;33m)\u001b[0m\u001b[1;33m)\u001b[0m\u001b[1;33m\u001b[0m\u001b[1;33m\u001b[0m\u001b[0m\n\u001b[0m",
      "\u001b[1;31mOverflowError\u001b[0m: Python int too large to convert to C ssize_t"
     ]
    }
   ],
   "source": [
    "import sys\n",
    "\n",
    "\n",
    "print(f\"{sys.maxsize}, {sys.maxsize == 2**63 - 1}\")\n",
    "\n",
    "len(range(2**63))"
   ]
  },
  {
   "cell_type": "markdown",
   "metadata": {
    "slideshow": {
     "slide_type": "subslide"
    }
   },
   "source": [
    "## Containers\n",
    "\n",
    "- `__getitem__`, `__setitem__`, `__delitem__`, `__missing__`\n",
    "\n",
    "Implements `self[key]`\n",
    "\n",
    "- `__iter__` and `__reversed__`\n",
    "\n",
    "If the `__reversed__` method is not provided, the reversed() built-in will fall back to using the sequence protocol (`__len__` and `__getitem__`)\n",
    "\n",
    "- `__contains__(self, item)` $\\Longleftrightarrow$ `item in self`\n",
    "\n",
    "How to create an immutable container?"
   ]
  },
  {
   "cell_type": "markdown",
   "metadata": {
    "slideshow": {
     "slide_type": "fragment"
    }
   },
   "source": [
    "```\n",
    "__len__ + __getitem__\n",
    "```"
   ]
  },
  {
   "cell_type": "code",
   "execution_count": 10,
   "metadata": {
    "slideshow": {
     "slide_type": "subslide"
    }
   },
   "outputs": [],
   "source": [
    "class ListContainer():\n",
    "    def __init__(self, items): self.items = self.listify(items)\n",
    "    def __bool__(self): return bool(self.items)\n",
    "    def __getitem__(self, idx):\n",
    "        if isinstance(idx, (int,slice)): return self.items[idx]\n",
    "        if isinstance(idx[0], bool):\n",
    "            assert len(idx)==len(self) # bool mask\n",
    "            return [obj for include, obj in zip(idx, self.items) if include]\n",
    "        return [self.items[i] for i in idx]\n",
    "    def __len__(self): return len(self.items)\n",
    "    def __iter__(self): return iter(self.items)\n",
    "    def __setitem__(self, i, obj): self.items[i] = obj\n",
    "    def __delitem__(self, i): del(self.items[i])\n",
    "    def __repr__(self):\n",
    "        res = f'{self.__class__.__name__} ({len(self)} items)\\n{self.items[:10]}'\n",
    "        if len(self)>10: res = res[:-1]+ '...]'\n",
    "        return res\n",
    "    \n",
    "    @staticmethod\n",
    "    def listify(obj):\n",
    "        if obj is None: return []\n",
    "        if isinstance(obj, list): return obj\n",
    "        if isinstance(obj, (str, int, float, complex)): return [obj]\n",
    "        if isinstance(obj, Iterable): return list(obj)"
   ]
  },
  {
   "cell_type": "markdown",
   "metadata": {
    "slideshow": {
     "slide_type": "slide"
    }
   },
   "source": [
    "## Callable"
   ]
  },
  {
   "cell_type": "code",
   "execution_count": 11,
   "metadata": {},
   "outputs": [
    {
     "data": {
      "text/plain": [
       "(9, 22, 22)"
      ]
     },
     "execution_count": 11,
     "metadata": {},
     "output_type": "execute_result"
    }
   ],
   "source": [
    "import random\n",
    "\n",
    "\n",
    "class Die:\n",
    "    def __init__(self, num_of_faces=6):\n",
    "        self.faces = range(1, num_of_faces+1)\n",
    "        \n",
    "    def __call__(self):\n",
    "        return random.choice(self.faces)\n",
    "    \n",
    "    def __repr__(self):\n",
    "        return f\"Die({len(self.faces)})\"\n",
    "\n",
    "    \n",
    "d24 = Die(24)\n",
    "d24(), d24(), d24()"
   ]
  },
  {
   "cell_type": "markdown",
   "metadata": {
    "slideshow": {
     "slide_type": "slide"
    }
   },
   "source": [
    "## List of dice"
   ]
  },
  {
   "cell_type": "code",
   "execution_count": 12,
   "metadata": {},
   "outputs": [],
   "source": [
    "class Dice(ListContainer):\n",
    "    def __init__(self, dice_list):\n",
    "        super().__init__(dice_list)\n",
    "        \n",
    "    def __call__(self):\n",
    "        return [die() for die in self]"
   ]
  },
  {
   "cell_type": "code",
   "execution_count": 13,
   "metadata": {},
   "outputs": [
    {
     "name": "stdout",
     "output_type": "stream",
     "text": [
      "Dice (3 items)\n",
      "[Die(6), Die(18), Die(24)]\n",
      "[True, True, False]\n",
      "[Die(6), Die(18)]\n"
     ]
    },
    {
     "data": {
      "text/plain": [
       "[4, 10, 18]"
      ]
     },
     "execution_count": 13,
     "metadata": {},
     "output_type": "execute_result"
    }
   ],
   "source": [
    "d_pack = Dice([Die(6), Die(18), Die(24)])\n",
    "\n",
    "print(d_pack)\n",
    "bool_idx = [len(die.faces) <= 18 for die in d_pack]\n",
    "print(bool_idx)\n",
    "print(d_pack[bool_idx])\n",
    "d_pack()"
   ]
  },
  {
   "cell_type": "markdown",
   "metadata": {
    "slideshow": {
     "slide_type": "slide"
    }
   },
   "source": [
    "## Iterators and Iterable\n",
    "\n",
    "An object representing a stream of data.\n",
    "\n",
    "### Iterator protocol\n",
    "\n",
    "- `__iter__` - return the iterator object itself\n",
    "- `__next__` - return the next item from the iterator\n",
    "\n",
    "Return the next item from the container. If there are no further items, raise the `StopIteration` exception. Once an iterator’s `__next__` method raises `StopIteration`, it must continue to do so on subsequent calls.\n",
    "\n",
    "**Iterable** - object that returns an iterator.\n"
   ]
  },
  {
   "cell_type": "markdown",
   "metadata": {
    "slideshow": {
     "slide_type": "fragment"
    }
   },
   "source": [
    "$$\n",
    "iterators \\supset iterable\n",
    "$$\n",
    "\n",
    "$$\n",
    "iterators \\subset iterable\n",
    "$$\n"
   ]
  },
  {
   "cell_type": "code",
   "execution_count": 14,
   "metadata": {
    "slideshow": {
     "slide_type": "subslide"
    }
   },
   "outputs": [],
   "source": [
    "s = \"string\"\n",
    "s_iter = iter(s)\n",
    "\n",
    "# print(list(zip(s, s, s)))\n",
    "# print(list(zip(s_iter, s_iter, s_iter)))\n",
    "# print(list(zip(iter(s), iter(s), iter(s))))\n",
    "# print(type(s_iter))"
   ]
  },
  {
   "cell_type": "code",
   "execution_count": 15,
   "metadata": {
    "slideshow": {
     "slide_type": "subslide"
    }
   },
   "outputs": [],
   "source": [
    "import collections\n",
    "\n",
    "\n",
    "class DiceIterator(collections.abc.Iterator):\n",
    "    def __init__(self, dice, cursor=-1):\n",
    "        self.dice = dice\n",
    "        self._cursor = cursor\n",
    "        \n",
    "    def __next__(self):\n",
    "        self._cursor += 1\n",
    "        if self._cursor >= len(self.dice):\n",
    "            raise StopIteration\n",
    "        return self.dice[self._cursor]\n",
    "    \n",
    "\n",
    "class DiceCollection(collections.abc.Iterable):\n",
    "    def __init__(self, list_of_faces):\n",
    "        self.dice = [Die(num_of_faces) for num_of_faces in list_of_faces]\n",
    "    \n",
    "    def __iter__(self):\n",
    "        return DiceIterator(self.dice, -1)"
   ]
  },
  {
   "cell_type": "code",
   "execution_count": 16,
   "metadata": {
    "slideshow": {
     "slide_type": "subslide"
    }
   },
   "outputs": [
    {
     "name": "stdout",
     "output_type": "stream",
     "text": [
      "<class '__main__.DiceCollection'>\n",
      "<class '__main__.DiceIterator'>\n",
      "<class '__main__.DiceIterator'>\n"
     ]
    }
   ],
   "source": [
    "d_pack = DiceCollection([6, 8, 9, 4])\n",
    "\n",
    "print(type(d_pack))\n",
    "\n",
    "d_iter = iter(d_pack)\n",
    "print(type(d_iter))\n",
    "d_iter_2 = iter(d_iter)\n",
    "print(type(d_iter_2))"
   ]
  },
  {
   "cell_type": "code",
   "execution_count": 17,
   "metadata": {
    "slideshow": {
     "slide_type": "fragment"
    }
   },
   "outputs": [],
   "source": [
    "??DiceIterator.__iter__"
   ]
  },
  {
   "cell_type": "code",
   "execution_count": 18,
   "metadata": {
    "slideshow": {
     "slide_type": "fragment"
    }
   },
   "outputs": [
    {
     "name": "stdout",
     "output_type": "stream",
     "text": [
      "2, 4, 6, 2, "
     ]
    }
   ],
   "source": [
    "for die in DiceCollection([6, 8, 9, 4]):\n",
    "    print(die(), end=\", \")\n",
    "    "
   ]
  },
  {
   "cell_type": "markdown",
   "metadata": {
    "slideshow": {
     "slide_type": "subslide"
    }
   },
   "source": [
    "## Iterators form `__getitem__`"
   ]
  },
  {
   "cell_type": "code",
   "execution_count": 19,
   "metadata": {},
   "outputs": [
    {
     "ename": "TypeError",
     "evalue": "'HiddenList' object is not iterable",
     "output_type": "error",
     "traceback": [
      "\u001b[1;31m---------------------------------------------------------------------------\u001b[0m",
      "\u001b[1;31mTypeError\u001b[0m                                 Traceback (most recent call last)",
      "\u001b[1;32m<ipython-input-19-ad3fa83ccaa5>\u001b[0m in \u001b[0;36m<module>\u001b[1;34m\u001b[0m\n\u001b[0;32m      5\u001b[0m \u001b[1;33m\u001b[0m\u001b[0m\n\u001b[0;32m      6\u001b[0m \u001b[0mh_list\u001b[0m \u001b[1;33m=\u001b[0m \u001b[0mHiddenList\u001b[0m\u001b[1;33m(\u001b[0m\u001b[1;33m[\u001b[0m\u001b[1;36m1\u001b[0m\u001b[1;33m,\u001b[0m \u001b[1;36m2\u001b[0m\u001b[1;33m,\u001b[0m \u001b[1;36m3\u001b[0m\u001b[1;33m]\u001b[0m\u001b[1;33m)\u001b[0m\u001b[1;33m\u001b[0m\u001b[1;33m\u001b[0m\u001b[0m\n\u001b[1;32m----> 7\u001b[1;33m \u001b[0miter\u001b[0m\u001b[1;33m(\u001b[0m\u001b[0mh_list\u001b[0m\u001b[1;33m)\u001b[0m\u001b[1;33m\u001b[0m\u001b[1;33m\u001b[0m\u001b[0m\n\u001b[0m",
      "\u001b[1;31mTypeError\u001b[0m: 'HiddenList' object is not iterable"
     ]
    }
   ],
   "source": [
    "class HiddenList:\n",
    "    def __init__(self, lst):\n",
    "        self.lst = lst\n",
    "\n",
    "\n",
    "h_list = HiddenList([1, 2, 3])\n",
    "iter(h_list)"
   ]
  },
  {
   "cell_type": "code",
   "execution_count": 20,
   "metadata": {
    "slideshow": {
     "slide_type": "subslide"
    }
   },
   "outputs": [
    {
     "name": "stdout",
     "output_type": "stream",
     "text": [
      "1\n",
      "2\n",
      "3\n"
     ]
    }
   ],
   "source": [
    "class IterableHiddenList(HiddenList):\n",
    "    def __getitem__(self, i):\n",
    "        return self.lst[i]\n",
    "    \n",
    "\n",
    "ih_list = IterableHiddenList([1, 2, 3])\n",
    "iter(ih_list)\n",
    "\n",
    "for i in ih_list:\n",
    "    print(i)"
   ]
  },
  {
   "cell_type": "markdown",
   "metadata": {
    "slideshow": {
     "slide_type": "slide"
    }
   },
   "source": [
    "## Generators\n",
    "\n",
    "Python’s generators provide a convenient way to implement the iterator protocol.\n",
    "\n",
    "Generator is a **function** which returns a _generator iterator_."
   ]
  },
  {
   "cell_type": "code",
   "execution_count": 21,
   "metadata": {
    "slideshow": {
     "slide_type": "fragment"
    }
   },
   "outputs": [
    {
     "name": "stdout",
     "output_type": "stream",
     "text": [
      "<class 'function'>\n",
      "<class 'generator'>\n",
      "Here!\n",
      "1, 1, 2, 3, 5, 8, 13, 21, 34, 55, 89, 144, 233, 377, 610, 987, 1597, 2584, 4181, 6765, 10946, 17711, 28657, 46368, 75025, 121393, 196418, 317811, 514229, 832040, 1346269, 2178309, 3524578, 5702887, 9227465, 14930352, 24157817, 39088169, 63245986, 102334155, 165580141, 267914296, 433494437, 701408733, 1134903170, 1836311903, 2971215073, 4807526976, 7778742049, 12586269025, 20365011074\n"
     ]
    }
   ],
   "source": [
    "def fib():\n",
    "    a, b = 0, 1\n",
    "    print(\"Here!\")\n",
    "    while True:\n",
    "        yield b\n",
    "        a, b = b, a + b\n",
    "\n",
    "print(type(fib))\n",
    "fib_gen = fib()\n",
    "print(type(fib_gen))\n",
    "\n",
    "for _, i in zip(range(50), fib_gen):\n",
    "    print(i, end=\", \")\n",
    "print(next(fib_gen))"
   ]
  },
  {
   "cell_type": "markdown",
   "metadata": {
    "slideshow": {
     "slide_type": "subslide"
    }
   },
   "source": [
    "## Generators\n",
    "\n",
    "A generator function can also contain return statements of the form: `return`\n",
    "\n",
    "Each `yield` temporarily suspends processing, remembering the location execution state (including local variables and pending try-statements). When the generator iterator resumes, it picks up where it left off (in contrast to functions which start fresh on every invocation)"
   ]
  },
  {
   "cell_type": "code",
   "execution_count": 22,
   "metadata": {
    "slideshow": {
     "slide_type": "fragment"
    }
   },
   "outputs": [
    {
     "name": "stdout",
     "output_type": "stream",
     "text": [
      "Do first, 1\n",
      "Do second, 2\n",
      "Do third, 4\n"
     ]
    }
   ],
   "source": [
    "def do_in_order():\n",
    "    x = 1\n",
    "    print(f\"Do first, {x}\")\n",
    "    yield\n",
    "    x += 1\n",
    "    print(f\"Do second, {x}\")\n",
    "    yield\n",
    "    x *= x\n",
    "    print(f\"Do third, {x}\")\n",
    "\n",
    "gen = do_in_order()\n",
    "next(gen)\n",
    "next(gen)\n",
    "next(gen, None)"
   ]
  },
  {
   "cell_type": "markdown",
   "metadata": {
    "slideshow": {
     "slide_type": "subslide"
    }
   },
   "source": [
    "### Send"
   ]
  },
  {
   "cell_type": "code",
   "execution_count": 23,
   "metadata": {
    "slideshow": {
     "slide_type": "-"
    }
   },
   "outputs": [
    {
     "name": "stdout",
     "output_type": "stream",
     "text": [
      "Do first, 1\n",
      "Do second, None\n",
      "Do third, None\n"
     ]
    }
   ],
   "source": [
    "def do_in_order_2():\n",
    "    x = 1\n",
    "    print(f\"Do first, {x}\")\n",
    "    x = yield\n",
    "    print(f\"Do second, {x}\")\n",
    "    x = yield 42\n",
    "    print(f\"Do third, {x}\")\n",
    "\n",
    "gen = do_in_order_2()\n",
    "for _ in gen:\n",
    "    pass"
   ]
  },
  {
   "cell_type": "code",
   "execution_count": 24,
   "metadata": {
    "slideshow": {
     "slide_type": "fragment"
    }
   },
   "outputs": [
    {
     "name": "stdout",
     "output_type": "stream",
     "text": [
      "Do first, 1\n"
     ]
    }
   ],
   "source": [
    "gen = do_in_order_2()\n",
    "gen.send(None)"
   ]
  },
  {
   "cell_type": "code",
   "execution_count": 25,
   "metadata": {
    "slideshow": {
     "slide_type": "fragment"
    }
   },
   "outputs": [
    {
     "name": "stdout",
     "output_type": "stream",
     "text": [
      "Do second, I am in generator!\n",
      "42\n"
     ]
    }
   ],
   "source": [
    "out = gen.send(\"I am in generator!\")\n",
    "print(out)"
   ]
  },
  {
   "cell_type": "code",
   "execution_count": 26,
   "metadata": {
    "slideshow": {
     "slide_type": "fragment"
    }
   },
   "outputs": [
    {
     "name": "stdout",
     "output_type": "stream",
     "text": [
      "Do third, lol\n",
      "I'm out!\n"
     ]
    }
   ],
   "source": [
    "try:\n",
    "    out = gen.send(\"lol\")\n",
    "except StopIteration:\n",
    "    print(\"I'm out!\")"
   ]
  },
  {
   "cell_type": "markdown",
   "metadata": {
    "slideshow": {
     "slide_type": "subslide"
    }
   },
   "source": [
    "### Throw"
   ]
  },
  {
   "cell_type": "code",
   "execution_count": 27,
   "metadata": {
    "slideshow": {
     "slide_type": "-"
    }
   },
   "outputs": [
    {
     "data": {
      "text/plain": [
       "42"
      ]
     },
     "execution_count": 27,
     "metadata": {},
     "output_type": "execute_result"
    }
   ],
   "source": [
    "def g():\n",
    "    try:\n",
    "        yield 42\n",
    "    except Exception as e:\n",
    "        yield e\n",
    "\n",
    "gen = g()\n",
    "next(gen)"
   ]
  },
  {
   "cell_type": "code",
   "execution_count": 28,
   "metadata": {
    "slideshow": {
     "slide_type": "fragment"
    }
   },
   "outputs": [
    {
     "data": {
      "text/plain": [
       "NotImplementedError('WTF?!')"
      ]
     },
     "execution_count": 28,
     "metadata": {},
     "output_type": "execute_result"
    }
   ],
   "source": [
    "gen.throw(NotImplementedError, \"WTF?!\")"
   ]
  },
  {
   "cell_type": "code",
   "execution_count": 29,
   "metadata": {
    "slideshow": {
     "slide_type": "fragment"
    }
   },
   "outputs": [],
   "source": [
    "# gen.throw(NotImplementedError, \"WTF?!\")"
   ]
  },
  {
   "cell_type": "markdown",
   "metadata": {
    "slideshow": {
     "slide_type": "subslide"
    }
   },
   "source": [
    "### Close"
   ]
  },
  {
   "cell_type": "code",
   "execution_count": 30,
   "metadata": {},
   "outputs": [
    {
     "name": "stdout",
     "output_type": "stream",
     "text": [
      "Do first, 1\n"
     ]
    }
   ],
   "source": [
    "gen = do_in_order_2()\n",
    "\n",
    "gen.send(None)"
   ]
  },
  {
   "cell_type": "code",
   "execution_count": 31,
   "metadata": {},
   "outputs": [],
   "source": [
    "gen.close()"
   ]
  },
  {
   "cell_type": "code",
   "execution_count": 32,
   "metadata": {
    "scrolled": true
   },
   "outputs": [
    {
     "ename": "StopIteration",
     "evalue": "",
     "output_type": "error",
     "traceback": [
      "\u001b[1;31m---------------------------------------------------------------------------\u001b[0m",
      "\u001b[1;31mStopIteration\u001b[0m                             Traceback (most recent call last)",
      "\u001b[1;32m<ipython-input-32-9d544967c24a>\u001b[0m in \u001b[0;36m<module>\u001b[1;34m\u001b[0m\n\u001b[1;32m----> 1\u001b[1;33m \u001b[0mgen\u001b[0m\u001b[1;33m.\u001b[0m\u001b[0msend\u001b[0m\u001b[1;33m(\u001b[0m\u001b[1;34m\"Smth\"\u001b[0m\u001b[1;33m)\u001b[0m\u001b[1;33m\u001b[0m\u001b[1;33m\u001b[0m\u001b[0m\n\u001b[0m",
      "\u001b[1;31mStopIteration\u001b[0m: "
     ]
    }
   ],
   "source": [
    "gen.send(\"Smth\")"
   ]
  },
  {
   "cell_type": "markdown",
   "metadata": {
    "slideshow": {
     "slide_type": "subslide"
    }
   },
   "source": [
    "## Coroutines (via generators)\n",
    "\n",
    "- generalization of subroutines\n",
    "- can be entered, exited, and resumed at many different points\n",
    "- from Python 3.7 can be implement with `async` and `await` syntax"
   ]
  },
  {
   "cell_type": "code",
   "execution_count": 33,
   "metadata": {
    "slideshow": {
     "slide_type": "subslide"
    }
   },
   "outputs": [],
   "source": [
    "def check_number(number):\n",
    "    print(f\"Ready for check {number}s\")\n",
    "    while True:\n",
    "        new_number = yield\n",
    "        if number == new_number:\n",
    "            print(f\"Got {number}!\")"
   ]
  },
  {
   "cell_type": "code",
   "execution_count": 34,
   "metadata": {
    "slideshow": {
     "slide_type": "-"
    }
   },
   "outputs": [
    {
     "name": "stdout",
     "output_type": "stream",
     "text": [
      "Ready for check 6s\n",
      "Got 6!\n",
      "Got 6!\n",
      "Got 6!\n",
      "Got 6!\n"
     ]
    }
   ],
   "source": [
    "is_six = check_number(6)\n",
    "d6 = Die(6)\n",
    "\n",
    "# initialize the generator\n",
    "is_six.send(None)\n",
    "\n",
    "for _ in range(30):\n",
    "    is_six.send(d6())"
   ]
  },
  {
   "cell_type": "markdown",
   "metadata": {
    "slideshow": {
     "slide_type": "subslide"
    }
   },
   "source": [
    "## yield from\n",
    "\n",
    "- pass the execution to another generator\n",
    "- pass `send` and `throw`"
   ]
  },
  {
   "cell_type": "code",
   "execution_count": 35,
   "metadata": {},
   "outputs": [],
   "source": [
    "def chain(*iterables):\n",
    "    for iterable in iterables:\n",
    "        yield from iterable"
   ]
  },
  {
   "cell_type": "code",
   "execution_count": 36,
   "metadata": {},
   "outputs": [
    {
     "data": {
      "text/plain": [
       "[1, 2, '4', '5', 'key1', 'key2', 'i', 't', 'e', 'r', ('b',), ('a',)]"
      ]
     },
     "execution_count": 36,
     "metadata": {},
     "output_type": "execute_result"
    }
   ],
   "source": [
    "i1, i2, i3, i4, i5 = (\n",
    "    [1, 2], (\"4\", \"5\"), {\"key1\": \"val1\", \"key2\": \"val2\"}, \"iter\", {(\"a\",), (\"b\",)}\n",
    ")\n",
    "\n",
    "list(chain(i1, i2, i3, i4, i5))"
   ]
  },
  {
   "cell_type": "markdown",
   "metadata": {
    "slideshow": {
     "slide_type": "subslide"
    }
   },
   "source": [
    "## Context Manager\n",
    "\n",
    "- `__enter__(self)`\n",
    "- `__exit__(self, exception_type, exception_value, traceback)`\n",
    "\n",
    "Patterns:\n",
    "- acquisition/release of the resource\n",
    "- doing something in different context"
   ]
  },
  {
   "cell_type": "code",
   "execution_count": 37,
   "metadata": {
    "slideshow": {
     "slide_type": "subslide"
    }
   },
   "outputs": [
    {
     "name": "stdout",
     "output_type": "stream",
     "text": [
      "C:\\Users\\Artur_Paniukov\\Documents\\Python\\lectures\\advanced_python\n",
      "C:\\Users\\Artur_Paniukov\\Documents\\Python\\lectures\n"
     ]
    }
   ],
   "source": [
    "import os\n",
    "\n",
    "\n",
    "class cd:\n",
    "    def __init__(self, path):\n",
    "        self.path = path\n",
    "        \n",
    "    def __enter__(self):\n",
    "        self.cwd = os.getcwd()\n",
    "        os.chdir(self.path)\n",
    "        \n",
    "    def __exit__(self, *args):\n",
    "        os.chdir(self.cwd)\n",
    "        \n",
    "\n",
    "print(os.getcwd())\n",
    "with cd(\"..\"):\n",
    "    print(os.getcwd())"
   ]
  },
  {
   "cell_type": "markdown",
   "metadata": {
    "slideshow": {
     "slide_type": "subslide"
    }
   },
   "source": [
    "## Context Manager\n",
    "\n",
    "```\n",
    "with resource_1() as r1, \\\n",
    "     resource_2() as r2:\n",
    "    \n",
    "    some_work()\n",
    "```\n",
    "\n",
    "`__enter__` can return a resource.\n",
    "\n",
    "If an `__exit__` returns `True`, than an exception will be suppressed."
   ]
  },
  {
   "cell_type": "markdown",
   "metadata": {
    "slideshow": {
     "slide_type": "subslide"
    }
   },
   "source": [
    "## Context Manager and Generators"
   ]
  },
  {
   "cell_type": "code",
   "execution_count": 38,
   "metadata": {},
   "outputs": [
    {
     "name": "stdout",
     "output_type": "stream",
     "text": [
      "C:\\Users\\Artur_Paniukov\\Documents\\Python\\lectures\\advanced_python\n",
      "C:\\Users\\Artur_Paniukov\\Documents\\Python\\lectures\n"
     ]
    }
   ],
   "source": [
    "from contextlib import contextmanager\n",
    "\n",
    "\n",
    "@contextmanager\n",
    "def cd_gen(path):\n",
    "    cwd = os.getcwd()\n",
    "    try:\n",
    "        # <__enter__>\n",
    "        os.chdir(path)\n",
    "        # </__enter__>\n",
    "        yield\n",
    "    finally:\n",
    "        # <__exit__>\n",
    "        os.chdir(cwd)\n",
    "        # </__exit__>\n",
    "        \n",
    "print(os.getcwd())\n",
    "with cd_gen(\"..\"):\n",
    "    print(os.getcwd())"
   ]
  },
  {
   "cell_type": "markdown",
   "metadata": {
    "slideshow": {
     "slide_type": "slide"
    }
   },
   "source": [
    "# Bonus"
   ]
  },
  {
   "cell_type": "code",
   "execution_count": 39,
   "metadata": {},
   "outputs": [],
   "source": [
    "def deco(*, func=None, **kwargs):\n",
    "    if not func:\n",
    "        return lambda f: deco(func=f, **kwargs)\n",
    "        \n",
    "    def inner(*args, **inner_kwargs):\n",
    "        print(kwargs)\n",
    "        return func(*args, **inner_kwargs)\n",
    "    return inner\n",
    "        "
   ]
  },
  {
   "cell_type": "code",
   "execution_count": 40,
   "metadata": {},
   "outputs": [
    {
     "name": "stdout",
     "output_type": "stream",
     "text": [
      "{'a': 1, 'b': 2}\n",
      "1\n"
     ]
    }
   ],
   "source": [
    "@deco(a=1, b=2)\n",
    "def f():\n",
    "    print(1)\n",
    "    \n",
    "f()"
   ]
  }
 ],
 "metadata": {
  "celltoolbar": "Slideshow",
  "kernelspec": {
   "display_name": "Python 3",
   "language": "python",
   "name": "python3"
  },
  "language_info": {
   "codemirror_mode": {
    "name": "ipython",
    "version": 3
   },
   "file_extension": ".py",
   "mimetype": "text/x-python",
   "name": "python",
   "nbconvert_exporter": "python",
   "pygments_lexer": "ipython3",
   "version": "3.7.3"
  },
  "rise": {
   "scroll": true
  }
 },
 "nbformat": 4,
 "nbformat_minor": 2
}
