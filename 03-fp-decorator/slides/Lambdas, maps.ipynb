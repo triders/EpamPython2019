{
 "cells": [
  {
   "cell_type": "markdown",
   "metadata": {
    "slideshow": {
     "slide_type": "slide"
    }
   },
   "source": [
    "# Функциональное программирование"
   ]
  },
  {
   "cell_type": "markdown",
   "metadata": {
    "slideshow": {
     "slide_type": "fragment"
    }
   },
   "source": [
    "- Парадигмы программирования\n",
    "\n",
    "- Lambda, map, filter, reduce, zip\n",
    "\n",
    "- functools - basics\n",
    "\n",
    "- Тернарные операторы \n",
    "\n",
    "- Управляющие конструкторы \n",
    "\n",
    "- Рекурсия\n",
    "\n",
    "- Декораторы\n",
    "\n",
    "\n"
   ]
  },
  {
   "cell_type": "markdown",
   "metadata": {
    "slideshow": {
     "slide_type": "slide"
    }
   },
   "source": [
    "# О парадигмах программирования\n",
    "\n",
    "Понятие парадигмы пришло в точные дисциплины из философии науки. В книге Т.Куна \"The structure of scientific revolutions\" под ней понимают устоявшуюся систему научных взглядов, в рамках которой ведутся исследования.\n",
    "\n",
    "## Парадигма программирования – это совокупность принципов, методов и понятий, определяющих способ написания компьютерных программ. "
   ]
  },
  {
   "cell_type": "markdown",
   "metadata": {
    "slideshow": {
     "slide_type": "slide"
    }
   },
   "source": [
    "### Парадигмы программирования \n",
    "\n",
    "- __Императивное__\n",
    "- Декларативное\n",
    "- __Процедурное__\n",
    "- __Объектно-ориентированное__\n",
    "- __Функциональное__\n",
    "- Логическое\n",
    "- Вероятностное \n",
    "\n",
    "Python - мультипарадигменный язык"
   ]
  },
  {
   "cell_type": "markdown",
   "metadata": {
    "slideshow": {
     "slide_type": "subslide"
    }
   },
   "source": [
    "### Императивный стиль\n",
    "\n",
    "описание того, __как__ добиться результата с использованием\n",
    "\n",
    "- именованных переменных\n",
    "    \n",
    "- оператора присваивания\n",
    "    \n",
    "- составных выражений\n",
    "    \n",
    "- подпрограмм\n",
    "\n"
   ]
  },
  {
   "cell_type": "code",
   "execution_count": 1,
   "metadata": {
    "slideshow": {
     "slide_type": "fragment"
    }
   },
   "outputs": [
    {
     "name": "stdout",
     "output_type": "stream",
     "text": [
      "6\n"
     ]
    }
   ],
   "source": [
    "sequence = [1, 2, 3]\n",
    "sum_ = 0\n",
    "for x in sequence:\n",
    "    sum_ += x\n",
    "print(sum_)"
   ]
  },
  {
   "cell_type": "markdown",
   "metadata": {
    "slideshow": {
     "slide_type": "subslide"
    }
   },
   "source": [
    "### Декларативный стиль\n",
    "\n",
    "описание того, __какой__ результат важен (без переменных и операторов присваивания).\n",
    "\n",
    "\n",
    "In declarative languages, you write a specification that describes the problem to be solved, and the language implementation figures out how to perform the computation efficiently. SQL is the declarative language you’re most likely to be familiar with; a SQL query describes the data set you want to retrieve, and the SQL engine decides whether to scan tables or use indexes, which subclauses should be performed first, etc."
   ]
  },
  {
   "cell_type": "markdown",
   "metadata": {
    "slideshow": {
     "slide_type": "slide"
    }
   },
   "source": [
    "### Процедурный стиль"
   ]
  },
  {
   "cell_type": "markdown",
   "metadata": {
    "slideshow": {
     "slide_type": "fragment"
    }
   },
   "source": [
    "основан на концепте вызова процедуры (функции, набора инструкций), включающей в себя несколько шагов по решению задачи.\n",
    "\n",
    "Most programming languages are procedural: programs are lists of instructions that tell the computer what to do with the program’s input. C, Pascal, and even Unix shells are procedural languages."
   ]
  },
  {
   "cell_type": "code",
   "execution_count": 8,
   "metadata": {
    "slideshow": {
     "slide_type": "fragment"
    }
   },
   "outputs": [
    {
     "name": "stdout",
     "output_type": "stream",
     "text": [
      "6\n"
     ]
    }
   ],
   "source": [
    "def add(sequence):\n",
    "    summ = 0\n",
    "    for x in sequence:\n",
    "        summ += x\n",
    "    return summ\n",
    "print(add(sequence))"
   ]
  },
  {
   "cell_type": "markdown",
   "metadata": {
    "slideshow": {
     "slide_type": "slide"
    }
   },
   "source": [
    "### Объектно-ориентированное программирование"
   ]
  },
  {
   "cell_type": "markdown",
   "metadata": {
    "slideshow": {
     "slide_type": "fragment"
    }
   },
   "source": [
    "методология, основанная на представлении программы в виде совокупности __объектов__, каждый из которых является экземпляром определённого __класса__, а классы образуют иерархию наследования.\n",
    "\n",
    "Базируется на трех главных принципах:\n",
    "- Инкапсуляция\n",
    "- Наследование\n",
    "- Полиморфизм\n",
    "\n",
    "Object-oriented programs manipulate collections of objects. Objects have internal state and support methods that query or modify this internal state in some way. Smalltalk and Java are object-oriented languages. C++ and Python are languages that support object-oriented programming, but don’t force the use of object-oriented features."
   ]
  },
  {
   "cell_type": "code",
   "execution_count": 3,
   "metadata": {
    "slideshow": {
     "slide_type": "subslide"
    }
   },
   "outputs": [
    {
     "name": "stdout",
     "output_type": "stream",
     "text": [
      "6\n"
     ]
    }
   ],
   "source": [
    "sequence = [1, 2, 3]\n",
    "class ChangeList(object):\n",
    "    def __init__(self, any_sequence):\n",
    "        self.any_sequence = any_sequence\n",
    "    def add(self):\n",
    "        self.summ = sum(self.any_sequence)\n",
    "create_sum = ChangeList(sequence)\n",
    "create_sum.add()\n",
    "print(create_sum.summ)"
   ]
  },
  {
   "cell_type": "markdown",
   "metadata": {
    "slideshow": {
     "slide_type": "slide"
    }
   },
   "source": [
    "### Логическое программирование"
   ]
  },
  {
   "cell_type": "markdown",
   "metadata": {
    "slideshow": {
     "slide_type": "fragment"
    }
   },
   "source": [
    "парадигма, основанная на формальной логике с выводом информации, являющейся результатом изучения фактов и правил. Правила в логических языках (а это в основном Prolog и Datalog) записываются следующим образом: \n",
    "\n",
    "<img src=\"images/prolog.png\" width=\"400\" height=\"500\">"
   ]
  },
  {
   "cell_type": "markdown",
   "metadata": {
    "slideshow": {
     "slide_type": "slide"
    }
   },
   "source": [
    "### Вероятностное программирование"
   ]
  },
  {
   "cell_type": "markdown",
   "metadata": {
    "slideshow": {
     "slide_type": "fragment"
    }
   },
   "source": [
    "способ описания статистических моделей в виде декларативного программного кода с последующим применением алгоритмов анализа и статистического вывода.\n",
    "\n",
    "В отличие от классического программирования, конечной целью которого является выполнение программы, вероятностное программирование делает упор на __анализ вероятностных программ.__\n",
    "\n",
    "Пример, подбрасывание честной монетки, чтобы выбрать одну из строк (webppl): \n",
    "\n",
    "<img src=\"images/prob.png\" width=\"300\" height=\"300\">"
   ]
  },
  {
   "cell_type": "markdown",
   "metadata": {
    "slideshow": {
     "slide_type": "slide"
    }
   },
   "source": [
    "### Функциональное программирование\n",
    "\n",
    "стиль написания программ, главными особенностями которого являются использование композиций __чистых функций__ (pure functions), при котором запрещено использование __разделяемого состояния__ (shared state), __побочных эффектов__ (side-effects) и __изменяемых данных__ (mutable data).\n",
    "\n",
    "Functional programming decomposes a problem into a set of functions. Ideally, functions only take inputs and produce outputs, and don’t have any internal state that affects the output produced for a given input. \n",
    "\n",
    "\n",
    "<img src=\"images/func.png\" width=\"900\" height=\"800\">"
   ]
  },
  {
   "cell_type": "code",
   "execution_count": 11,
   "metadata": {
    "slideshow": {
     "slide_type": "subslide"
    }
   },
   "outputs": [
    {
     "name": "stdout",
     "output_type": "stream",
     "text": [
      "6\n"
     ]
    }
   ],
   "source": [
    "import functools\n",
    "\n",
    "sequence = [1, 2, 3]\n",
    "\n",
    "def add(x, y):\n",
    "    return (x + y)\n",
    "\n",
    "sum_ = functools.reduce(add, sequence)\n",
    "print(sum_)\n"
   ]
  },
  {
   "cell_type": "markdown",
   "metadata": {
    "slideshow": {
     "slide_type": "slide"
    }
   },
   "source": [
    "### Терминология\n",
    "\n",
    "<img src=\"images/fp.png\" width=\"300\" height=\"300\">"
   ]
  },
  {
   "cell_type": "markdown",
   "metadata": {
    "slideshow": {
     "slide_type": "subslide"
    }
   },
   "source": [
    "__Чистая функция__ - это детерминированная функция, не обладающая побочными эффектами.\n",
    "\n",
    "\n"
   ]
  },
  {
   "cell_type": "markdown",
   "metadata": {
    "slideshow": {
     "slide_type": "subslide"
    }
   },
   "source": [
    "__Побочные эффекты__ - действия работающей программы, изменяющие среду выполнения (execution environment) программы.\n",
    "\n",
    "К побочным эффектам относятся:\n",
    "\n",
    "- изменение значений глобальных переменных\n",
    "- доступ к глобальным объектам\n",
    "- осуществление операций ввода-вывода\n",
    "- реакция на исключительные ситуации и их обработка\n",
    "- изменение поведения инструкций процессора, обрабатывающих числа с плавающей точкой\n"
   ]
  },
  {
   "cell_type": "markdown",
   "metadata": {
    "slideshow": {
     "slide_type": "fragment"
    }
   },
   "source": [
    "For example, in Python a call to the `print()` or `time.sleep()` function both return no useful value; they’re only called for their side effects of sending some text to the screen or pausing execution for a second."
   ]
  },
  {
   "cell_type": "markdown",
   "metadata": {
    "slideshow": {
     "slide_type": "subslide"
    }
   },
   "source": [
    "__Детерминированность функции__ предполагает возвращение одинакового результата для одного и того же набора входных значений.\n",
    "\n",
    "При вызове функции с побочным эффектом дважды с одним и тем же набором значений входных аргументов в качестве результата могут быть возвращены разные значения. Такие функции называются __недетерминироваными функциями с побочными эффектами.__"
   ]
  },
  {
   "cell_type": "markdown",
   "metadata": {
    "slideshow": {
     "slide_type": "subslide"
    }
   },
   "source": [
    "__Композиция функций__ - это процесс соединения двух и более функций для создания новой. Она выглядит следующим образом: f(g(x))\n",
    "\n",
    "__Разделяемое состояние__ - это любая переменная, объект, пространство в памяти или свойство объекта, существующее в разделяемой области видимости, т.е. в глобальной области видимости или в закрытых областях."
   ]
  },
  {
   "cell_type": "markdown",
   "metadata": {
    "slideshow": {
     "slide_type": "skip"
    }
   },
   "source": [
    "__Каррирование__ - преобразование функции от многих аргументов в набор функций, каждая из которых имеет только один аргумент."
   ]
  },
  {
   "cell_type": "code",
   "execution_count": 29,
   "metadata": {
    "slideshow": {
     "slide_type": "skip"
    }
   },
   "outputs": [],
   "source": [
    "def add(n, m):\n",
    "    return n+m\n",
    "\n",
    "def curried_add(a):\n",
    "    def inner(b):\n",
    "        return add(a, b)\n",
    "    return inner\n",
    "\n",
    "#rom toolz import curry\n",
    "#add = curry(add)"
   ]
  },
  {
   "cell_type": "markdown",
   "metadata": {
    "slideshow": {
     "slide_type": "subslide"
    }
   },
   "source": [
    "Functional design may seem like an odd constraint to work under. Why should you avoid objects and side effects? There are theoretical and practical advantages to the functional style:\n",
    "\n",
    "- Formal provability.\n",
    "\n",
    "- Modularity.\n",
    "\n",
    "- Composability.\n",
    "\n",
    "- Ease of debugging and testing."
   ]
  },
  {
   "cell_type": "markdown",
   "metadata": {
    "slideshow": {
     "slide_type": "slide"
    }
   },
   "source": [
    "### Iterators"
   ]
  },
  {
   "cell_type": "markdown",
   "metadata": {
    "slideshow": {
     "slide_type": "fragment"
    }
   },
   "source": [
    "An iterator is an object representing a stream of data; this object returns the data one element at a time. A Python iterator must support a method called `__next__()` that takes no arguments and always returns the next element of the stream. If there are no more elements in the stream, `__next__()` must raise the StopIteration exception."
   ]
  },
  {
   "cell_type": "markdown",
   "metadata": {
    "slideshow": {
     "slide_type": "fragment"
    }
   },
   "source": [
    "The built-in iter() function takes an arbitrary object and tries to return an iterator that will return the object’s contents or elements, raising TypeError if the object doesn’t support iteration."
   ]
  },
  {
   "cell_type": "code",
   "execution_count": 10,
   "metadata": {
    "slideshow": {
     "slide_type": "subslide"
    }
   },
   "outputs": [
    {
     "name": "stdout",
     "output_type": "stream",
     "text": [
      "1\n",
      "2\n",
      "3\n"
     ]
    },
    {
     "ename": "StopIteration",
     "evalue": "",
     "output_type": "error",
     "traceback": [
      "\u001b[0;31m---------------------------------------------------------------------------\u001b[0m",
      "\u001b[0;31mStopIteration\u001b[0m                             Traceback (most recent call last)",
      "\u001b[0;32m<ipython-input-10-b52584acc96a>\u001b[0m in \u001b[0;36m<module>\u001b[0;34m\u001b[0m\n\u001b[1;32m      4\u001b[0m \u001b[0mprint\u001b[0m\u001b[0;34m(\u001b[0m\u001b[0mnext\u001b[0m\u001b[0;34m(\u001b[0m\u001b[0ml_iter\u001b[0m\u001b[0;34m)\u001b[0m\u001b[0;34m)\u001b[0m\u001b[0;34m\u001b[0m\u001b[0;34m\u001b[0m\u001b[0m\n\u001b[1;32m      5\u001b[0m \u001b[0mprint\u001b[0m\u001b[0;34m(\u001b[0m\u001b[0mnext\u001b[0m\u001b[0;34m(\u001b[0m\u001b[0ml_iter\u001b[0m\u001b[0;34m)\u001b[0m\u001b[0;34m)\u001b[0m\u001b[0;34m\u001b[0m\u001b[0;34m\u001b[0m\u001b[0m\n\u001b[0;32m----> 6\u001b[0;31m \u001b[0mprint\u001b[0m\u001b[0;34m(\u001b[0m\u001b[0mnext\u001b[0m\u001b[0;34m(\u001b[0m\u001b[0ml_iter\u001b[0m\u001b[0;34m)\u001b[0m\u001b[0;34m)\u001b[0m\u001b[0;34m\u001b[0m\u001b[0;34m\u001b[0m\u001b[0m\n\u001b[0m",
      "\u001b[0;31mStopIteration\u001b[0m: "
     ]
    }
   ],
   "source": [
    "l = [1, 2, 3]\n",
    "l_iter = iter(l)\n",
    "print(next(l_iter))\n",
    "print(next(l_iter))     \n",
    "print(next(l_iter))      \n",
    "print(next(l_iter))     "
   ]
  },
  {
   "cell_type": "markdown",
   "metadata": {
    "slideshow": {
     "slide_type": "subslide"
    }
   },
   "source": [
    "In what contexts python expects iterator?"
   ]
  },
  {
   "cell_type": "code",
   "execution_count": null,
   "metadata": {
    "slideshow": {
     "slide_type": "fragment"
    }
   },
   "outputs": [],
   "source": [
    "for i in iter(obj):\n",
    "    print(i)\n",
    "\n",
    "for i in obj:\n",
    "    print(i)"
   ]
  },
  {
   "cell_type": "code",
   "execution_count": 11,
   "metadata": {
    "slideshow": {
     "slide_type": "subslide"
    }
   },
   "outputs": [
    {
     "data": {
      "text/plain": [
       "(1, 2, 3)"
      ]
     },
     "execution_count": 11,
     "metadata": {},
     "output_type": "execute_result"
    }
   ],
   "source": [
    "L = [1, 2, 3]\n",
    "iterator = iter(L)\n",
    "t = tuple(iterator)\n",
    "t"
   ]
  },
  {
   "cell_type": "code",
   "execution_count": 12,
   "metadata": {
    "slideshow": {
     "slide_type": "fragment"
    }
   },
   "outputs": [
    {
     "data": {
      "text/plain": [
       "(1, 2, 3)"
      ]
     },
     "execution_count": 12,
     "metadata": {},
     "output_type": "execute_result"
    }
   ],
   "source": [
    "L = [1, 2, 3]\n",
    "iterator = iter(L)\n",
    "a, b, c = iterator\n",
    "a, b, c"
   ]
  },
  {
   "cell_type": "markdown",
   "metadata": {
    "slideshow": {
     "slide_type": "subslide"
    }
   },
   "source": [
    "* `max(), min()`\n",
    "* `in`, `not in` "
   ]
  },
  {
   "cell_type": "markdown",
   "metadata": {
    "slideshow": {
     "slide_type": "fragment"
    }
   },
   "source": [
    "Any Python sequence type will automatically support creation of an iterator."
   ]
  },
  {
   "cell_type": "markdown",
   "metadata": {
    "slideshow": {
     "slide_type": "slide"
    }
   },
   "source": [
    "### Generator expressions and list comprehensions"
   ]
  },
  {
   "cell_type": "markdown",
   "metadata": {
    "slideshow": {
     "slide_type": "fragment"
    }
   },
   "source": [
    "1) performing some operation for every element, \n",
    "\n",
    "2) selecting a subset of elements that meet some condition"
   ]
  },
  {
   "cell_type": "markdown",
   "metadata": {
    "slideshow": {
     "slide_type": "fragment"
    }
   },
   "source": [
    "List comprehensions and generator expressions (short form: “listcomps” and “genexps”) are borrowed from the functional programming language Haskell"
   ]
  },
  {
   "cell_type": "code",
   "execution_count": 5,
   "metadata": {
    "slideshow": {
     "slide_type": "subslide"
    }
   },
   "outputs": [
    {
     "name": "stdout",
     "output_type": "stream",
     "text": [
      "<class 'generator'> <class 'list'>\n"
     ]
    }
   ],
   "source": [
    "line_list = ['  line 1\\n', 'line 2  \\n', ]\n",
    "\n",
    "# Generator expression -- returns iterator\n",
    "stripped_iter = (line.strip() for line in line_list)\n",
    "\n",
    "# List comprehension -- returns list\n",
    "stripped_list = [line.strip() for line in line_list]\n",
    "\n",
    "print(type(stripped_iter), type(stripped_list))"
   ]
  },
  {
   "cell_type": "code",
   "execution_count": 9,
   "metadata": {
    "slideshow": {
     "slide_type": "fragment"
    }
   },
   "outputs": [
    {
     "data": {
      "text/plain": [
       "385"
      ]
     },
     "execution_count": 9,
     "metadata": {},
     "output_type": "execute_result"
    }
   ],
   "source": [
    "sum(i**2 for i in range(1, 11))"
   ]
  },
  {
   "cell_type": "code",
   "execution_count": 10,
   "metadata": {
    "slideshow": {
     "slide_type": "subslide"
    }
   },
   "outputs": [
    {
     "data": {
      "text/plain": [
       "[('a', 1),\n",
       " ('a', 2),\n",
       " ('a', 3),\n",
       " ('b', 1),\n",
       " ('b', 2),\n",
       " ('b', 3),\n",
       " ('c', 1),\n",
       " ('c', 2),\n",
       " ('c', 3)]"
      ]
     },
     "execution_count": 10,
     "metadata": {},
     "output_type": "execute_result"
    }
   ],
   "source": [
    "seq1 = 'abc'\n",
    "seq2 = (1, 2, 3)\n",
    "[(x, y) for x in seq1 for y in seq2]"
   ]
  },
  {
   "cell_type": "markdown",
   "metadata": {
    "slideshow": {
     "slide_type": "slide"
    }
   },
   "source": [
    "### Lambda operator (lambda function)\n",
    "\n",
    "Guido van Rossum: \"I was never all that happy with the use of the \"lambda\" terminology, but for lack of a better and obvious alternative, it was adopted for Python\"."
   ]
  },
  {
   "cell_type": "markdown",
   "metadata": {
    "slideshow": {
     "slide_type": "fragment"
    }
   },
   "source": [
    "\n",
    "\n",
    "__используется для создания объектов анонимных функций в Python.__\n",
    "\n",
    "\n",
    "Синтаксис: `lambda arguments : expression`\n",
    "\n",
    "Аргументов - много\n",
    "\n",
    "Выражение - всегда одно"
   ]
  },
  {
   "cell_type": "markdown",
   "metadata": {
    "slideshow": {
     "slide_type": "subslide"
    }
   },
   "source": [
    "### Анонимная функция\n",
    "особый вид функций, которые объявляются в месте использования и __не получают уникального идентификатора__ для доступа к ним. Обычно при создании анонимные функции либо вызываются напрямую, либо ссылка на функцию присваивается переменной, с помощью которой затем можно косвенно вызывать данную функцию."
   ]
  },
  {
   "cell_type": "code",
   "execution_count": 25,
   "metadata": {
    "slideshow": {
     "slide_type": "subslide"
    }
   },
   "outputs": [
    {
     "data": {
      "text/plain": [
       "24"
      ]
     },
     "execution_count": 25,
     "metadata": {},
     "output_type": "execute_result"
    }
   ],
   "source": [
    "def multiplication(x, y):\n",
    "    return x*y\n",
    "\n",
    "multiplication(4, 6)"
   ]
  },
  {
   "cell_type": "markdown",
   "metadata": {
    "slideshow": {
     "slide_type": "fragment"
    }
   },
   "source": [
    "Сделаем то же самое через lambda"
   ]
  },
  {
   "cell_type": "code",
   "execution_count": 21,
   "metadata": {
    "slideshow": {
     "slide_type": "fragment"
    }
   },
   "outputs": [
    {
     "data": {
      "text/plain": [
       "24"
      ]
     },
     "execution_count": 21,
     "metadata": {},
     "output_type": "execute_result"
    }
   ],
   "source": [
    "(lambda x,y: x*y)(4, 6)"
   ]
  },
  {
   "cell_type": "code",
   "execution_count": 2,
   "metadata": {
    "slideshow": {
     "slide_type": "fragment"
    }
   },
   "outputs": [
    {
     "data": {
      "text/plain": [
       "(24, <function __main__.<lambda>(x, y)>)"
      ]
     },
     "execution_count": 2,
     "metadata": {},
     "output_type": "execute_result"
    }
   ],
   "source": [
    "multiplication = lambda x,y: x*y\n",
    "\n",
    "multiplication(4, 6), multiplication"
   ]
  },
  {
   "cell_type": "markdown",
   "metadata": {
    "slideshow": {
     "slide_type": "subslide"
    }
   },
   "source": [
    "Какой тип у лямбды?"
   ]
  },
  {
   "cell_type": "code",
   "execution_count": 5,
   "metadata": {
    "slideshow": {
     "slide_type": "fragment"
    }
   },
   "outputs": [
    {
     "name": "stdout",
     "output_type": "stream",
     "text": [
      "<class 'function'>\n"
     ]
    },
    {
     "data": {
      "text/plain": [
       "['__annotations__',\n",
       " '__call__',\n",
       " '__class__',\n",
       " '__closure__',\n",
       " '__code__',\n",
       " '__defaults__',\n",
       " '__delattr__',\n",
       " '__dict__',\n",
       " '__dir__',\n",
       " '__doc__',\n",
       " '__eq__',\n",
       " '__format__',\n",
       " '__ge__',\n",
       " '__get__',\n",
       " '__getattribute__',\n",
       " '__globals__',\n",
       " '__gt__',\n",
       " '__hash__',\n",
       " '__init__',\n",
       " '__init_subclass__',\n",
       " '__kwdefaults__',\n",
       " '__le__',\n",
       " '__lt__',\n",
       " '__module__',\n",
       " '__name__',\n",
       " '__ne__',\n",
       " '__new__',\n",
       " '__qualname__',\n",
       " '__reduce__',\n",
       " '__reduce_ex__',\n",
       " '__repr__',\n",
       " '__setattr__',\n",
       " '__sizeof__',\n",
       " '__str__',\n",
       " '__subclasshook__']"
      ]
     },
     "execution_count": 5,
     "metadata": {},
     "output_type": "execute_result"
    }
   ],
   "source": [
    "print(type(multiplication))\n",
    "dir(multiplication)"
   ]
  },
  {
   "cell_type": "markdown",
   "metadata": {
    "slideshow": {
     "slide_type": "fragment"
    }
   },
   "source": [
    "Объект функции, который может быть присвоен любой переменной (любой ли?)"
   ]
  },
  {
   "cell_type": "code",
   "execution_count": 7,
   "metadata": {
    "scrolled": true,
    "slideshow": {
     "slide_type": "fragment"
    }
   },
   "outputs": [
    {
     "data": {
      "text/plain": [
       "3.0"
      ]
     },
     "execution_count": 7,
     "metadata": {},
     "output_type": "execute_result"
    }
   ],
   "source": [
    "division = lambda x, y: x/y\n",
    "division(3, 1)"
   ]
  },
  {
   "cell_type": "markdown",
   "metadata": {
    "slideshow": {
     "slide_type": "slide"
    }
   },
   "source": [
    "### Зачем нужны лямбды и что отличает их от def ?"
   ]
  },
  {
   "cell_type": "markdown",
   "metadata": {
    "slideshow": {
     "slide_type": "fragment"
    }
   },
   "source": [
    "- lambda - однострочная\n",
    "\n",
    "- lambda - ограниченная, в нее не получится вместить много логики, в отличие от def\n",
    "\n",
    "- lambdas - удобно, если нам нужна функция на 1 раз, например, как в __map, filter, reduce__ и других функций\n",
    "\n",
    "- lamda - безымянная функция\n",
    " \n"
   ]
  },
  {
   "cell_type": "markdown",
   "metadata": {
    "slideshow": {
     "slide_type": "slide"
    }
   },
   "source": [
    "### lambda vs def"
   ]
  },
  {
   "cell_type": "markdown",
   "metadata": {
    "slideshow": {
     "slide_type": "fragment"
    }
   },
   "source": [
    "Вопрос вкусовщины, но\n",
    " * labmda подерживает только одно выражение: если пытаться засунуть в одно выражение слишком много, в результате будет перегруженный ничетаемый код\n",
    " * сложнее дебажить, тк функция безымянна"
   ]
  },
  {
   "cell_type": "markdown",
   "metadata": {
    "slideshow": {
     "slide_type": "subslide"
    }
   },
   "source": [
    "Мнемоническое правило:"
   ]
  },
  {
   "cell_type": "markdown",
   "metadata": {
    "slideshow": {
     "slide_type": "fragment"
    }
   },
   "source": [
    "* Write a lambda function.\n",
    "\n",
    "* Write a comment explaining what the heck that lambda does.\n",
    "\n",
    "* Study the comment for a while, and think of a name that captures the essence of the comment.\n",
    "\n",
    "* Convert the lambda to a def statement, using that name.\n",
    "\n",
    "* Remove the comment."
   ]
  },
  {
   "cell_type": "code",
   "execution_count": 13,
   "metadata": {
    "slideshow": {
     "slide_type": "subslide"
    }
   },
   "outputs": [
    {
     "data": {
      "text/plain": [
       "'<lambda>'"
      ]
     },
     "execution_count": 13,
     "metadata": {},
     "output_type": "execute_result"
    }
   ],
   "source": [
    "(lambda: None).__name__"
   ]
  },
  {
   "cell_type": "code",
   "execution_count": 14,
   "metadata": {
    "slideshow": {
     "slide_type": "fragment"
    }
   },
   "outputs": [
    {
     "data": {
      "text/plain": [
       "['small', 'bigger', 'the biggest']"
      ]
     },
     "execution_count": 14,
     "metadata": {},
     "output_type": "execute_result"
    }
   ],
   "source": [
    "a = ['the biggest', 'small', 'bigger']\n",
    "a.sort(key=lambda x: len(x))\n",
    "\n",
    "a"
   ]
  },
  {
   "cell_type": "markdown",
   "metadata": {
    "slideshow": {
     "slide_type": "slide"
    }
   },
   "source": [
    "# Map\n",
    "\n",
    "Функция, принимающая на вход объект функции и некоторое количество iterable (лист, словарь и др). Она исполняет объект функции для каждого элемента последовательности.\n",
    "\n",
    "В Python 3 map-функция возвращает итератор/map-object, а он.. ленивый\n",
    "\n",
    "`map(function_object, iterable1, iterable2,...)`"
   ]
  },
  {
   "cell_type": "code",
   "execution_count": 37,
   "metadata": {
    "slideshow": {
     "slide_type": "fragment"
    }
   },
   "outputs": [
    {
     "data": {
      "text/plain": [
       "([8, 27, 64], [8, 27, 64])"
      ]
     },
     "execution_count": 37,
     "metadata": {},
     "output_type": "execute_result"
    }
   ],
   "source": [
    "def cube(n):\n",
    "    return n*n*n\n",
    "\n",
    "power3 = lambda x: x**3\n",
    "\n",
    "list(map(cube, [2,3,4])), list(map(power3, [2,3,4]))"
   ]
  },
  {
   "cell_type": "markdown",
   "metadata": {
    "slideshow": {
     "slide_type": "subslide"
    }
   },
   "source": [
    "Средняя оценка по отзывам на подкасты - ответ"
   ]
  },
  {
   "cell_type": "code",
   "execution_count": null,
   "metadata": {
    "slideshow": {
     "slide_type": "fragment"
    }
   },
   "outputs": [],
   "source": [
    "list(map(lambda x: round(sum(x)/len(x), 1), podcasts.values())) # [8.5, 9.5, 8.7]"
   ]
  },
  {
   "cell_type": "markdown",
   "metadata": {
    "slideshow": {
     "slide_type": "slide"
    }
   },
   "source": [
    "## Lazy evaluation, or call-by-need\n",
    "\n",
    "стратегия вычисления, согласно которой вычисления следует откладывать до тех пор, пока не понадобится их результат. "
   ]
  },
  {
   "cell_type": "markdown",
   "metadata": {
    "slideshow": {
     "slide_type": "slide"
    }
   },
   "source": [
    "# Zip\n",
    "объединяет в кортежи элементы из последовательностей, переданных в качестве аргументов.\n",
    "\n",
    "Берет: __n number of iterables__\n",
    "\n",
    "Возвращает: zip object, который можно преобразовать в __list of tuples__\n",
    "\n",
    "__i-ый элемент кортежа создается с использованием i-того элемента каждой из имеющихся iterables__ (слева направо)"
   ]
  },
  {
   "cell_type": "code",
   "execution_count": 38,
   "metadata": {
    "slideshow": {
     "slide_type": "subslide"
    }
   },
   "outputs": [
    {
     "name": "stdout",
     "output_type": "stream",
     "text": [
      "<zip object at 0x7f3372ecf908>\n"
     ]
    },
    {
     "data": {
      "text/plain": [
       "[('France', 'Victor Hugo', 'Les Misérables'),\n",
       " ('Russia', 'Fyodor Dostoevsky', 'The Brothers Karamazov'),\n",
       " ('Japan', 'Yukio Mishima', 'The Temple of the Golden Pavilion')]"
      ]
     },
     "execution_count": 38,
     "metadata": {},
     "output_type": "execute_result"
    }
   ],
   "source": [
    "cities = [\"France\", \"Russia\", \"Japan\"]\n",
    "writers = [\"Victor Hugo\", \"Fyodor Dostoevsky\", \"Yukio Mishima\"]\n",
    "romans = [\"Les Misérables\", \"The Brothers Karamazov\", \"The Temple of the Golden Pavilion\"]\n",
    "\n",
    "print(zip(cities, writers, romans))\n",
    "list(zip(cities, writers, romans))"
   ]
  },
  {
   "cell_type": "markdown",
   "metadata": {
    "slideshow": {
     "slide_type": "slide"
    }
   },
   "source": [
    "__Что будет, если длина списков, поданных в zip, отличается?__"
   ]
  },
  {
   "cell_type": "code",
   "execution_count": 4,
   "metadata": {
    "slideshow": {
     "slide_type": "fragment"
    }
   },
   "outputs": [
    {
     "data": {
      "text/plain": [
       "[('France', 'Victor Hugo', 'Les Misérables'),\n",
       " ('Russia', 'Fyodor Dostoevsky', 'The Brothers Karamazov'),\n",
       " ('Japan', 'Yukio Mishima', 'The Temple of the Golden Pavilion')]"
      ]
     },
     "execution_count": 4,
     "metadata": {},
     "output_type": "execute_result"
    }
   ],
   "source": [
    "cities = [\"France\", \"Russia\", \"Japan\", \"China\", \"India\", \"USA\"]\n",
    "writers = [\"Victor Hugo\", \"Fyodor Dostoevsky\", \"Yukio Mishima\"]\n",
    "romans = [\"Les Misérables\", \"The Brothers Karamazov\", \"The Temple of the Golden Pavilion\", \"smth else\"]\n",
    "# itertools.zip_longest() - ломает систему\n",
    "list(zip(cities, writers, romans))"
   ]
  },
  {
   "cell_type": "markdown",
   "metadata": {
    "slideshow": {
     "slide_type": "fragment"
    }
   },
   "source": [
    "__Если длина iterables отличается, zip создает лист кортежей с длиной, равной длине самого маленького iterable объекта.__"
   ]
  },
  {
   "cell_type": "code",
   "execution_count": 26,
   "metadata": {
    "slideshow": {
     "slide_type": "slide"
    }
   },
   "outputs": [
    {
     "name": "stdout",
     "output_type": "stream",
     "text": [
      "[(1, 4), (2, 5), (3, 6)] []\n"
     ]
    }
   ],
   "source": [
    "import itertools\n",
    "\n",
    "a = [1, 2, 3]\n",
    "b = [4, 5, 6]\n",
    "\n",
    "zipped = zip(a, b) # Output: Zip Object\n",
    "\n",
    "#len(zipped) # TypeError: object of type 'zip' has no len()\n",
    "#zipped[0] # TypeError: 'zip' object is not subscriptable\n",
    "\n",
    "#copied = itertools.tee(zipped) # Saving Zip! - copy an iterator\n",
    "\n",
    "first = list(zipped)\n",
    "exhausted = list(zipped) # empty list because by the above statement zip got exhausted.\n",
    "\n",
    "print(first, exhausted)\n",
    "#print(copied)"
   ]
  },
  {
   "cell_type": "markdown",
   "metadata": {
    "slideshow": {
     "slide_type": "slide"
    }
   },
   "source": [
    "# Filter\n",
    "\n",
    "Подаем: объект функции, возвращающий True or False, и iterable (только 1).\n",
    "\n",
    "Принцип работы: объект функции вызывается для каждого элемента последовательности и фильтрует выходные значения по True выходу объекта функции.\n",
    "\n",
    "Возвращаем: те элементы, для которых объект функции возвращает True\n",
    "\n",
    "`filter(function_object, iterable)`"
   ]
  },
  {
   "cell_type": "code",
   "execution_count": 3,
   "metadata": {
    "scrolled": true,
    "slideshow": {
     "slide_type": "fragment"
    }
   },
   "outputs": [
    {
     "name": "stdout",
     "output_type": "stream",
     "text": [
      "<filter object at 0x7f12ac3aec18>\n"
     ]
    },
    {
     "data": {
      "text/plain": [
       "[0, 2, 4, 6, 8, 10, 12, 14, 16, 18]"
      ]
     },
     "execution_count": 3,
     "metadata": {},
     "output_type": "execute_result"
    }
   ],
   "source": [
    "print(filter(lambda x : x % 2 == 0, range(20)))\n",
    "list(filter(lambda x : x % 2 == 0, range(20)))"
   ]
  },
  {
   "cell_type": "markdown",
   "metadata": {
    "slideshow": {
     "slide_type": "slide"
    }
   },
   "source": [
    "## Functools - модуль"
   ]
  },
  {
   "cell_type": "markdown",
   "metadata": {
    "slideshow": {
     "slide_type": "fragment"
    }
   },
   "source": [
    "Модуль functools - сборник функций высшего порядка. \n",
    "\n",
    "__Функция высшего порядка__ - функция, принимающая в качестве аргументов другие функции или возвращающая другую функцию в качестве результата."
   ]
  },
  {
   "cell_type": "markdown",
   "metadata": {
    "slideshow": {
     "slide_type": "subslide"
    }
   },
   "source": [
    "##  Reduce - 2005\n",
    "\n",
    "<img src=\"images/reduce.png\" width=\"500\" height=\"500\">\n",
    "https://www.artima.com/weblogs/viewpost.jsp?thread=98196 - объяснения Гвидо"
   ]
  },
  {
   "cell_type": "markdown",
   "metadata": {
    "slideshow": {
     "slide_type": "slide"
    }
   },
   "source": [
    "`functools.reduce(function, iterable[, initializer])`\n",
    "\n",
    "\n",
    "__Применяет указанную функцию к элементам последовательности, сводя её к единственному значению.__\n",
    "\n",
    "Перевод на lisp: \n",
    "`reduce(lambda x, y: x+y, [1, 2, 3, 4, 5]) calculates ((((1+2)+3)+4)+5).` \n",
    "\n",
    "Если последовательность содержит только один элемент, он возвращается функцией. \n"
   ]
  },
  {
   "cell_type": "markdown",
   "metadata": {
    "slideshow": {
     "slide_type": "subslide"
    }
   },
   "source": [
    "__`functools.reduce(function, iterable[, initializer])`__\n",
    "\n",
    "__function__: Функция, которую требуется применить к элементам последовательности. Должна принимать два аргумента, где первый аргумент — аккумулированное ранее значение, а второй — следующий элемент последовательности.\n",
    "\n",
    "__iterable__: Последовательность, элементы которой требуется свести к единственному значению. Если последовательность пуста и не задан initializer, то возбуждается TypeError\n",
    "\n",
    "__initializer=None__: Базовое значение, с которого требуется начать отсчёт. Оно же будет возвращено, если последовательность пуста. "
   ]
  },
  {
   "cell_type": "code",
   "execution_count": 39,
   "metadata": {
    "slideshow": {
     "slide_type": "subslide"
    }
   },
   "outputs": [
    {
     "data": {
      "text/plain": [
       "(20, 252, [7, 4, 9])"
      ]
     },
     "execution_count": 39,
     "metadata": {},
     "output_type": "execute_result"
    }
   ],
   "source": [
    "def reduce(function, iterable, initializer=None):\n",
    "    it = iter(iterable)\n",
    "    if initializer is None:\n",
    "        value = next(it)\n",
    "    else:\n",
    "        value = initializer\n",
    "    for element in it:\n",
    "        value = function(value, element)\n",
    "    return value\n",
    "\n",
    "from functools import reduce\n",
    "\n",
    "sum_list = lambda lst: reduce(lambda x,y: x+y, lst)\n",
    "mul_list = lambda lst: reduce(lambda x,y: x*y, lst)\n",
    "rev_list = lambda lst: reduce(lambda x,y: [y]+x, lst,[])\n",
    "\n",
    "seq = [9, 4, 7]\n",
    "sum_list(seq), mul_list(seq),rev_list(seq)"
   ]
  },
  {
   "cell_type": "code",
   "execution_count": 5,
   "metadata": {
    "scrolled": false,
    "slideshow": {
     "slide_type": "skip"
    }
   },
   "outputs": [
    {
     "name": "stdout",
     "output_type": "stream",
     "text": [
      "[1, 2, 3, 5, 8, 13, 21, 34, 55, 89, 144, 233, 377]\n",
      "[1, 2, 3, 5, 8, 13, 21, 34, 55, 89, 144, 233, 377]\n",
      "[1, 2, 3, 5, 8, 13, 21, 34, 55, 89, 144, 233, 377]\n",
      "[1, 2, 3, 5, 8, 13, 21, 34, 55, 89, 144, 233, 377]\n",
      "[1, 2, 3, 5, 8, 13, 21, 34, 55, 89, 144, 233, 377]\n"
     ]
    }
   ],
   "source": [
    "from functools import reduce\n",
    "\n",
    "fib1 = lambda n: [(lambda: (l[-1], l.append(l[-1] + l[-2]))[0])() for l in [[1, 1]] for x in range(n+1)]\n",
    "fib2 = lambda n: [(l[-1], l.append(l[-1] + l[-2]))[0] for l in [[1, 1]] for x in range(n+1)]\n",
    "fib3 = lambda n: [l.append(l[-1] + l[-2]) or l for l in [[1, 1]] for x in range(n)][0][1:]\n",
    "fib4 = lambda n: reduce(lambda a, b: a + [a[-1] + a[-2]], range(n), [1, 1])[1:]\n",
    "fib5 = lambda n: reduce(lambda a, b: a.append(a[-1] + a[-2]) or a, range(n), [1, 1])[1:]\n",
    "\n",
    "print(fib1(12))\n",
    "print(fib2(12))\n",
    "print(fib3(12))\n",
    "print(fib4(12))\n",
    "print(fib5(12))"
   ]
  },
  {
   "cell_type": "markdown",
   "metadata": {
    "slideshow": {
     "slide_type": "subslide"
    }
   },
   "source": [
    "Но вообще все это можно написать через list compehension..."
   ]
  },
  {
   "cell_type": "markdown",
   "metadata": {
    "slideshow": {
     "slide_type": "skip"
    }
   },
   "source": [
    "### Функтор (функциональный объект) \n",
    "объект класса, который можно использовать как функцию.\n",
    "\n",
    "В математике функтор - разновидность меппинга между функциями."
   ]
  },
  {
   "cell_type": "markdown",
   "metadata": {
    "slideshow": {
     "slide_type": "skip"
    }
   },
   "source": [
    "Когда их использование целесообразно?\n",
    "\n",
    "- При необходимости абстрагировать/скрыть реальную имплементацию.\n",
    "\n",
    "Пример: Let’s say you want to call the different functions depending on the input but you don’t want the user code to make explicit calls to those different functions. This is the ideal situation where functors can help.\n",
    "    In this scenario, we can go for a functor which internally calls the most suitable function depending on the input\n",
    "    Now if later, none of functions to be called increases, then it would be just a simple change in the backend code without disturbing any of the user code. Thus functors help in creating maintainable, decoupled and extendable codes.\n"
   ]
  }
 ],
 "metadata": {
  "celltoolbar": "Slideshow",
  "kernelspec": {
   "display_name": "Python 3",
   "language": "python",
   "name": "python3"
  },
  "language_info": {
   "codemirror_mode": {
    "name": "ipython",
    "version": 3
   },
   "file_extension": ".py",
   "mimetype": "text/x-python",
   "name": "python",
   "nbconvert_exporter": "python",
   "pygments_lexer": "ipython3",
   "version": "3.7.3"
  }
 },
 "nbformat": 4,
 "nbformat_minor": 2
}
