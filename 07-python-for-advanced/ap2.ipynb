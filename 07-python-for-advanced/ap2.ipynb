{
 "cells": [
  {
   "cell_type": "markdown",
   "metadata": {
    "slideshow": {
     "slide_type": "slide"
    }
   },
   "source": [
    "* Descriptors\n",
    " * types\n",
    " * usage in python\n",
    "* Metaclasses\n",
    "* GIL and how to cope with it\n",
    "* GC\n",
    "* Weak references\n",
    "* Unittesting"
   ]
  },
  {
   "cell_type": "markdown",
   "metadata": {
    "slideshow": {
     "slide_type": "slide"
    }
   },
   "source": [
    "### Descriptors"
   ]
  },
  {
   "cell_type": "code",
   "execution_count": null,
   "metadata": {
    "slideshow": {
     "slide_type": "subslide"
    }
   },
   "outputs": [],
   "source": [
    "from sqlalchemy import Column, Integer, String\n",
    "\n",
    "class User(Base):\n",
    "    id = Column(Integer, primary_key=True)\n",
    "    name = Column(String)"
   ]
  },
  {
   "cell_type": "markdown",
   "metadata": {
    "slideshow": {
     "slide_type": "subslide"
    }
   },
   "source": [
    "```\n",
    "Дескриптор это атрибут объекта со “связанным поведением”, то есть такой атрибут, при доступе к которому его поведение переопределяется методом протокола дескриптора. Эти методы  __get__, __set__ и __delete__. Если хотя бы один из этих методов определен в объекте , то можно сказать что этот метод дескриптор.\"\n",
    "Раймонд Хеттингер\n",
    "```"
   ]
  },
  {
   "cell_type": "markdown",
   "metadata": {
    "slideshow": {
     "slide_type": "fragment"
    }
   },
   "source": [
    "* Получим значение атрибута, some_variable = obj.a \n",
    "* Изменим его значение, obj.a = 'new value'\n",
    "* Удалим атрибут, del obj.a"
   ]
  },
  {
   "cell_type": "markdown",
   "metadata": {
    "slideshow": {
     "slide_type": "subslide"
    }
   },
   "source": [
    "Стандартный поиск атрибутов объекта:\n",
    "`a.x` -> `a.__dict__['x']` -> `type(a).__dict__['x']` -> ... excluding metaclasses.\n",
    "\n",
    "Python позволяет перехватить выше упомянутые попытки доступа к атрибуту и переопределить связанное с этим доступом поведение. Это реализуется через механизм протокола дескрипторов."
   ]
  },
  {
   "cell_type": "markdown",
   "metadata": {
    "slideshow": {
     "slide_type": "slide"
    }
   },
   "source": [
    "### Descriptor Protocol"
   ]
  },
  {
   "cell_type": "markdown",
   "metadata": {
    "slideshow": {
     "slide_type": "subslide"
    }
   },
   "source": [
    "`descr.__get__(self, obj, type=None) -> value`\n",
    "\n",
    "`descr.__set__(self, obj, value) -> None`\n",
    "\n",
    "`descr.__delete__(self, obj) -> None`\n",
    "\n",
    "`descr.__set_name__(self, obj, name) -> None`\n",
    " * Вызывается во время создания класса. В этом случае дескриптор назначается на имя атрибута.\n"
   ]
  },
  {
   "cell_type": "markdown",
   "metadata": {
    "slideshow": {
     "slide_type": "fragment"
    }
   },
   "source": [
    "If an object defines `__set__()` or `__delete__()`, it is considered a data descriptor. \n",
    "\n",
    "Descriptors that only define `__get__()` are called non-data descriptors (they are typically used for methods but other uses are possible)."
   ]
  },
  {
   "cell_type": "markdown",
   "metadata": {
    "slideshow": {
     "slide_type": "subslide"
    }
   },
   "source": [
    "Дескрипторы данных и не данных отличаются в том, как будет изменено поведение поиска, если в словаре объекта уже есть запись с таким же именем как у дескриптора. Если попадается дескриптор данных, то он вызывается раньше, чем запись из словаря объекта. Если в такой же ситуации окажется дескриптор не данных, то запись из словаря объекта имеет преимущество перед этим дескриптором."
   ]
  },
  {
   "cell_type": "markdown",
   "metadata": {
    "slideshow": {
     "slide_type": "subslide"
    }
   },
   "source": [
    "* дескрипторы вызываются с помощью метода `__getattribute__`\n",
    "* переопределение `__getattribute__` прекратит автоматический вызов дескрипторов\n",
    "* `object.__getattribute__` и `type.__getattribute__` делают разные вызовы к `__get__`\n",
    "    * `b.x` -> `type(b).__dict__['x'].__get__(b, type(b))`\n",
    "    * `B.x` -> `B.__dict__['x'].__get__(None, B)`\n",
    "* дескрипторы данных всегда имеют преимущество перед переменными объекта\n",
    "* дескрипторы не данных могут потерять преимущество из-за переменных объекта"
   ]
  },
  {
   "cell_type": "code",
   "execution_count": 23,
   "metadata": {
    "scrolled": false,
    "slideshow": {
     "slide_type": "slide"
    }
   },
   "outputs": [
    {
     "ename": "ValueError",
     "evalue": "Cannot be negative.",
     "output_type": "error",
     "traceback": [
      "\u001b[0;31m---------------------------------------------------------------------------\u001b[0m",
      "\u001b[0;31mValueError\u001b[0m                                Traceback (most recent call last)",
      "\u001b[0;32m<ipython-input-23-0d89d0b5f0d9>\u001b[0m in \u001b[0;36m<module>\u001b[0;34m\u001b[0m\n\u001b[1;32m     11\u001b[0m \u001b[0mapple_order\u001b[0m \u001b[0;34m=\u001b[0m \u001b[0mOrder\u001b[0m\u001b[0;34m(\u001b[0m\u001b[0;34m'apple'\u001b[0m\u001b[0;34m,\u001b[0m \u001b[0;36m1\u001b[0m\u001b[0;34m,\u001b[0m \u001b[0;36m10\u001b[0m\u001b[0;34m)\u001b[0m\u001b[0;34m\u001b[0m\u001b[0;34m\u001b[0m\u001b[0m\n\u001b[1;32m     12\u001b[0m \u001b[0mapple_order\u001b[0m\u001b[0;34m.\u001b[0m\u001b[0mtotal\u001b[0m\u001b[0;34m(\u001b[0m\u001b[0;34m)\u001b[0m \u001b[0;31m# 10\u001b[0m\u001b[0;34m\u001b[0m\u001b[0;34m\u001b[0m\u001b[0m\n\u001b[0;32m---> 13\u001b[0;31m \u001b[0mapple_order\u001b[0m\u001b[0;34m.\u001b[0m\u001b[0mprice\u001b[0m \u001b[0;34m=\u001b[0m \u001b[0;34m-\u001b[0m\u001b[0;36m10\u001b[0m \u001b[0;31m# ValueError: Cannot be negative\u001b[0m\u001b[0;34m\u001b[0m\u001b[0;34m\u001b[0m\u001b[0m\n\u001b[0m\u001b[1;32m     14\u001b[0m \u001b[0mapple_order\u001b[0m\u001b[0;34m.\u001b[0m\u001b[0mquantity\u001b[0m \u001b[0;34m=\u001b[0m \u001b[0;34m-\u001b[0m\u001b[0;36m10\u001b[0m \u001b[0;31m# ValueError: Cannot be negative\u001b[0m\u001b[0;34m\u001b[0m\u001b[0;34m\u001b[0m\u001b[0m\n",
      "\u001b[0;32m<ipython-input-22-65e00b0a6753>\u001b[0m in \u001b[0;36m__set__\u001b[0;34m(self, instance, value)\u001b[0m\n\u001b[1;32m     17\u001b[0m     \u001b[0;32mdef\u001b[0m \u001b[0m__set__\u001b[0m\u001b[0;34m(\u001b[0m\u001b[0mself\u001b[0m\u001b[0;34m,\u001b[0m \u001b[0minstance\u001b[0m\u001b[0;34m,\u001b[0m \u001b[0mvalue\u001b[0m\u001b[0;34m)\u001b[0m\u001b[0;34m:\u001b[0m\u001b[0;34m\u001b[0m\u001b[0;34m\u001b[0m\u001b[0m\n\u001b[1;32m     18\u001b[0m         \u001b[0;32mif\u001b[0m \u001b[0mvalue\u001b[0m \u001b[0;34m<\u001b[0m \u001b[0;36m0\u001b[0m\u001b[0;34m:\u001b[0m\u001b[0;34m\u001b[0m\u001b[0;34m\u001b[0m\u001b[0m\n\u001b[0;32m---> 19\u001b[0;31m             \u001b[0;32mraise\u001b[0m \u001b[0mValueError\u001b[0m\u001b[0;34m(\u001b[0m\u001b[0;34m'Cannot be negative.'\u001b[0m\u001b[0;34m)\u001b[0m\u001b[0;34m\u001b[0m\u001b[0;34m\u001b[0m\u001b[0m\n\u001b[0m\u001b[1;32m     20\u001b[0m         \u001b[0minstance\u001b[0m\u001b[0;34m.\u001b[0m\u001b[0m__dict__\u001b[0m\u001b[0;34m[\u001b[0m\u001b[0mself\u001b[0m\u001b[0;34m.\u001b[0m\u001b[0mname\u001b[0m\u001b[0;34m]\u001b[0m \u001b[0;34m=\u001b[0m \u001b[0mvalue\u001b[0m  \u001b[0;31m# (6)\u001b[0m\u001b[0;34m\u001b[0m\u001b[0;34m\u001b[0m\u001b[0m\n\u001b[1;32m     21\u001b[0m \u001b[0;34m\u001b[0m\u001b[0m\n",
      "\u001b[0;31mValueError\u001b[0m: Cannot be negative."
     ]
    }
   ],
   "source": [
    "class Order:\n",
    "    price = NonNegative('price')  # (3)\n",
    "    quantity = NonNegative('quantity')\n",
    "    def __init__(self, name, price, quantity):\n",
    "        self._name = name\n",
    "        self.price = price\n",
    "        self.quantity = quantity\n",
    "    def total(self):\n",
    "        return self.price * self.quantity\n",
    "\n",
    "apple_order = Order('apple', 1, 10)\n",
    "apple_order.total() # 10\n",
    "apple_order.price = -10 # ValueError: Cannot be negative\n",
    "apple_order.quantity = -10 # ValueError: Cannot be negative"
   ]
  },
  {
   "cell_type": "code",
   "execution_count": null,
   "metadata": {
    "slideshow": {
     "slide_type": "slide"
    }
   },
   "outputs": [],
   "source": [
    "class NonNegative:\n",
    "    def __init__(self, name):\n",
    "        self.name = name  # (4)\n",
    "    def __get__(self, instance, owner):\n",
    "        return instance.__dict__[self.name]  # (5)\n",
    "    def __set__(self, instance, value):\n",
    "        if value < 0:\n",
    "            raise ValueError('Cannot be negative.')\n",
    "        instance.__dict__[self.name] = value  # (6)"
   ]
  },
  {
   "cell_type": "markdown",
   "metadata": {
    "slideshow": {
     "slide_type": "fragment"
    }
   },
   "source": [
    "Строка (4): атрибут name необходим при создание объекта NonNegative в строке (3), в данные момент еще не происходит изменения значения price. Таким образом, мы явно передаем имя атрибута price что бы использовать его как ключ при доступе к экземпляру `__dict__`.\n",
    "\n",
    "Строки (5) и (6): вместо использования встроенный функций getattr и setattr, мы напрямую обращаемся к объекту __dict__ , что бы избежать ошибки  RecursionError, так как обращение через встроенные функции будут так же перехватываться протоколом дескрипторов."
   ]
  },
  {
   "cell_type": "markdown",
   "metadata": {
    "slideshow": {
     "slide_type": "slide"
    }
   },
   "source": [
    "### Python 3.6 `__set_name__`"
   ]
  },
  {
   "cell_type": "code",
   "execution_count": 25,
   "metadata": {
    "slideshow": {
     "slide_type": "subslide"
    }
   },
   "outputs": [],
   "source": [
    "class NonNegative:\n",
    "    ...\n",
    "    def __set_name__(self, owner, name):\n",
    "        self.name = name"
   ]
  },
  {
   "cell_type": "code",
   "execution_count": null,
   "metadata": {
    "slideshow": {
     "slide_type": "subslide"
    }
   },
   "outputs": [],
   "source": [
    "class NonNegative:\n",
    "    def __get__(self, instance, owner):\n",
    "        return instance.__dict__[self.name]\n",
    "    def __set__(self, instance, value):\n",
    "        if value < 0:\n",
    "            raise ValueError('Cannot be negative.')\n",
    "        instance.__dict__[self.name] = value\n",
    "    def __set_name__(self, owner, name):\n",
    "        self.name = name\n",
    "        \n",
    "class Order:\n",
    "    price = NonNegative()\n",
    "    quantity = NonNegative()\n",
    "    def __init__(self, name, price, quantity):\n",
    "        self._name = name\n",
    "        self.price = price\n",
    "        self.quantity = quantity\n",
    "    def total(self):\n",
    "        return self.price * self.quantity\n",
    "    \n",
    "apple_order = Order('apple', 1, 10)\n",
    "apple_order.total() # 10\n",
    "apple_order.price = -10 # ValueError: Cannot be negative\n",
    "apple_order.quantity = -10 # ValueError: Cannot be negative"
   ]
  },
  {
   "cell_type": "markdown",
   "metadata": {
    "slideshow": {
     "slide_type": "slide"
    }
   },
   "source": [
    "### Descriptors examples"
   ]
  },
  {
   "cell_type": "markdown",
   "metadata": {
    "slideshow": {
     "slide_type": "subslide"
    }
   },
   "source": [
    "### Properties"
   ]
  },
  {
   "cell_type": "markdown",
   "metadata": {
    "slideshow": {
     "slide_type": "fragment"
    }
   },
   "source": [
    "property(fget=None, fset=None, fdel=None, doc=None) -> атрибут, реализующий свойства дескрипторa данных\n",
    "\n",
    "`fget` is a function to be used for getting an attribute value, and likewise `fset` is a function for setting, and `fdel` a function for del'ing, an attribute. "
   ]
  },
  {
   "cell_type": "code",
   "execution_count": null,
   "metadata": {
    "slideshow": {
     "slide_type": "subslide"
    }
   },
   "outputs": [],
   "source": [
    "class C(object):\n",
    "    \n",
    "    def getx(self): return self.__x\n",
    "    def setx(self, value): self.__x = value\n",
    "    def delx(self): del self.__x\n",
    "    \n",
    "    x = property(getx, setx, delx, \"Я свойство 'x'.\")"
   ]
  },
  {
   "cell_type": "code",
   "execution_count": null,
   "metadata": {
    "slideshow": {
     "slide_type": "subslide"
    }
   },
   "outputs": [],
   "source": [
    "class Property(object):\n",
    "    \"Эмуляция PyProperty_Type() в Objects/descrobject.c\"\n",
    "    def __init__(self, fget=None, fset=None, fdel=None, doc=None):\n",
    "        self.fget = fget\n",
    "        self.fset = fset\n",
    "        self.fdel = fdel\n",
    "        self.__doc__ = doc\n",
    "        \n",
    "    def __get__(self, obj, objtype=None):\n",
    "        if obj is None:\n",
    "            return self\n",
    "        if self.fget is None:\n",
    "            raise AttributeError, \"can't read attr\"\n",
    "        return self.fget(obj)\n",
    "    \n",
    "    def __set__(self, obj, value):\n",
    "        if self.fset is None:\n",
    "            raise AttributeError, \"can't set attr\"\n",
    "        self.fset(obj, value)\n",
    "    \n",
    "    def __delete__(self, obj):\n",
    "        if self.fdel is None:\n",
    "            raise AttributeError, \"can't del attr\"\n",
    "        self.fdel(obj)"
   ]
  },
  {
   "cell_type": "markdown",
   "metadata": {
    "slideshow": {
     "slide_type": "slide"
    }
   },
   "source": [
    "### Functions and Methods"
   ]
  },
  {
   "cell_type": "markdown",
   "metadata": {
    "slideshow": {
     "slide_type": "subslide"
    }
   },
   "source": [
    "Все объектно-ориентированные возможности реализованы с помощью функционального подхода. Сделанно это через дескрипторы.\n",
    "\n",
    "Словари классов хранят методы в виде функций. При определении класса, методы записываются с помощью def и lambda — стандартных инструментов для создания функций. Единственное отличие этих функций от обычных в том, что первый аргумент зарезервирован под экземпляр объекта. -> `self`"
   ]
  },
  {
   "cell_type": "markdown",
   "metadata": {
    "slideshow": {
     "slide_type": "fragment"
    }
   },
   "source": [
    "Для того, чтобы поддерживать вызов методов, функции включают в себя метод `__get__`, который автоматически делает их дескрипторами не данных при поиске атрибутов. Функции возвращают связанные или не связанные методы, в зависимости от того, через что был вызван этот дескриптор."
   ]
  },
  {
   "cell_type": "code",
   "execution_count": null,
   "metadata": {
    "slideshow": {
     "slide_type": "subslide"
    }
   },
   "outputs": [],
   "source": [
    "class Function(object):\n",
    "    ...\n",
    "    def __get__(self, obj, objtype=None):\n",
    "        \"Симуляция func_descr_get() в Objects/funcobject.c\"\n",
    "        return types.MethodType(self, obj, objtype)"
   ]
  },
  {
   "cell_type": "code",
   "execution_count": 40,
   "metadata": {
    "slideshow": {
     "slide_type": "subslide"
    }
   },
   "outputs": [
    {
     "name": "stdout",
     "output_type": "stream",
     "text": [
      "<function C.a at 0x7fd5037d51e0>\n",
      "<function C.a at 0x7fd5037d51e0>\n",
      "<class 'function'>\n",
      "<bound method C.a of <__main__.C object at 0x7fd503ac2ba8>>\n",
      "<class 'method'>\n",
      "<function C.a at 0x7fd5037d51e0>\n"
     ]
    }
   ],
   "source": [
    "class C:\n",
    "    def a(self, b):\n",
    "        return b\n",
    "\n",
    "print(C.__dict__['a'])\n",
    "print(C.a) # <unbound method D.f> in python2\n",
    "print(type(C.a))\n",
    "print(C().a)\n",
    "print(type(C().a))\n",
    "print(C().a.__func__)"
   ]
  },
  {
   "cell_type": "code",
   "execution_count": 43,
   "metadata": {
    "slideshow": {
     "slide_type": "subslide"
    }
   },
   "outputs": [
    {
     "name": "stdout",
     "output_type": "stream",
     "text": [
      "<function C.a at 0x7fd5037d5950>\n",
      "<__main__.C object at 0x7fd5036ecfd0>\n"
     ]
    },
    {
     "ename": "AttributeError",
     "evalue": "'method' object has no attribute 'b'",
     "output_type": "error",
     "traceback": [
      "\u001b[0;31m---------------------------------------------------------------------------\u001b[0m",
      "\u001b[0;31mAttributeError\u001b[0m                            Traceback (most recent call last)",
      "\u001b[0;32m<ipython-input-43-367798db9be3>\u001b[0m in \u001b[0;36m<module>\u001b[0;34m\u001b[0m\n\u001b[1;32m      5\u001b[0m \u001b[0mprint\u001b[0m\u001b[0;34m(\u001b[0m\u001b[0mC\u001b[0m\u001b[0;34m(\u001b[0m\u001b[0;34m)\u001b[0m\u001b[0;34m.\u001b[0m\u001b[0ma\u001b[0m\u001b[0;34m.\u001b[0m\u001b[0m__func__\u001b[0m\u001b[0;34m)\u001b[0m\u001b[0;34m\u001b[0m\u001b[0;34m\u001b[0m\u001b[0m\n\u001b[1;32m      6\u001b[0m \u001b[0mprint\u001b[0m\u001b[0;34m(\u001b[0m\u001b[0mC\u001b[0m\u001b[0;34m(\u001b[0m\u001b[0;34m)\u001b[0m\u001b[0;34m.\u001b[0m\u001b[0ma\u001b[0m\u001b[0;34m.\u001b[0m\u001b[0m__self__\u001b[0m\u001b[0;34m)\u001b[0m\u001b[0;34m\u001b[0m\u001b[0;34m\u001b[0m\u001b[0m\n\u001b[0;32m----> 7\u001b[0;31m \u001b[0mC\u001b[0m\u001b[0;34m(\u001b[0m\u001b[0;34m)\u001b[0m\u001b[0;34m.\u001b[0m\u001b[0ma\u001b[0m\u001b[0;34m.\u001b[0m\u001b[0mb\u001b[0m \u001b[0;34m=\u001b[0m \u001b[0;36m1\u001b[0m\u001b[0;34m\u001b[0m\u001b[0;34m\u001b[0m\u001b[0m\n\u001b[0m",
      "\u001b[0;31mAttributeError\u001b[0m: 'method' object has no attribute 'b'"
     ]
    }
   ],
   "source": [
    "class C:\n",
    "    def a(self, b):\n",
    "        return b\n",
    "\n",
    "print(C().a.__func__)\n",
    "print(C().a.__self__)\n",
    "C().a.b = 1"
   ]
  },
  {
   "cell_type": "markdown",
   "metadata": {
    "slideshow": {
     "slide_type": "subslide"
    }
   },
   "source": [
    "* transformation from function object to instance method object happens each time the attribute is retrieved from the instance.\n",
    "\n",
    "* transformation only happens for user-defined functions; other callable objects (and all non-callable objects) are retrieved without transformation. \n",
    "\n",
    "* user-defined functions which are attributes of a class instance are not converted to bound methods; this only happens when the function is an attribute of the class."
   ]
  },
  {
   "cell_type": "markdown",
   "metadata": {
    "slideshow": {
     "slide_type": "slide"
    }
   },
   "source": [
    "### Static Methods and Class Methods"
   ]
  },
  {
   "cell_type": "markdown",
   "metadata": {
    "slideshow": {
     "slide_type": "subslide"
    }
   },
   "source": [
    "Дескрипторы не данных предоставляют простой механизм для различных вариантов привязки функций к методам.\n",
    "\n",
    "Функции имеют метод `__get__`, с помощью которых они становятся методами, во время поиска атрибутов и автоматического вызова дескрипторов. Дескрипторы не данных преобразуют вызов `obj.f(*args)` в вызов `f(obj, *args)`, а вызов `klass.f(*args)` становится `f(*args)`."
   ]
  },
  {
   "cell_type": "markdown",
   "metadata": {
    "slideshow": {
     "slide_type": "subslide"
    }
   },
   "source": [
    "|Преобразование |\tВызвана через объект\t | Вызвана через класс|\n",
    "|----------------:|-------------------------:|------------- |\n",
    "Дескриптор  |\tфункция\tf(obj, *args) |\tf(*args)\n",
    "staticmethod\t|f(*args)\t| f(*args)\n",
    "classmethod\t| f(type(obj), *args) |\tf(klass, *args)"
   ]
  },
  {
   "cell_type": "code",
   "execution_count": 47,
   "metadata": {
    "slideshow": {
     "slide_type": "subslide"
    }
   },
   "outputs": [],
   "source": [
    "class ClassMethod:\n",
    "    \"\"\"Эмуляция PyClassMethod_Type() в Objects/funcobject.c\"\"\"\n",
    "    \n",
    "    def __init__(self, f):\n",
    "        self.f = f\n",
    "\n",
    "    def __get__(self, obj, klass=None):\n",
    "        if klass is None:\n",
    "            klass = type(obj)\n",
    "\n",
    "        def newfunc(*args):\n",
    "            return self.f(klass, *args)\n",
    "        return newfunc\n"
   ]
  },
  {
   "cell_type": "code",
   "execution_count": 48,
   "metadata": {
    "slideshow": {
     "slide_type": "subslide"
    }
   },
   "outputs": [],
   "source": [
    "class StaticMethod:\n",
    "    \"\"\"Эмуляция PyStaticMethod_Type() в Objects/funcobject.c\"\"\"\n",
    "\n",
    "    def __init__(self, f):\n",
    "        self.f = f\n",
    "\n",
    "    def __get__(self, obj, objtype=None):\n",
    "        return self.f"
   ]
  },
  {
   "cell_type": "markdown",
   "metadata": {
    "slideshow": {
     "slide_type": "slide"
    }
   },
   "source": [
    "## Metaclasses"
   ]
  },
  {
   "cell_type": "code",
   "execution_count": 50,
   "metadata": {
    "slideshow": {
     "slide_type": "subslide"
    }
   },
   "outputs": [
    {
     "name": "stdout",
     "output_type": "stream",
     "text": [
      "<class 'type'>\n",
      "True\n"
     ]
    }
   ],
   "source": [
    "class ObjectFactory:\n",
    "    pass\n",
    "\n",
    "print(type(ObjectFactory))\n",
    "print(isinstance(ObjectFactory, object))"
   ]
  },
  {
   "cell_type": "markdown",
   "metadata": {
    "slideshow": {
     "slide_type": "subslide"
    }
   },
   "source": [
    "First class object:\n",
    "\n",
    "* его можно присвоить переменной,\n",
    "* его можно скопировать,\n",
    "* можно добавить к нему атрибут,\n",
    "* его можно передать функции в качестве аргумента,"
   ]
  },
  {
   "cell_type": "markdown",
   "metadata": {
    "slideshow": {
     "slide_type": "subslide"
    }
   },
   "source": [
    "### Create class on the fly"
   ]
  },
  {
   "cell_type": "code",
   "execution_count": 52,
   "metadata": {
    "slideshow": {
     "slide_type": "subslide"
    }
   },
   "outputs": [
    {
     "name": "stdout",
     "output_type": "stream",
     "text": [
      "<class '__main__.choose_class.<locals>.Foo'>\n",
      "<__main__.choose_class.<locals>.Foo object at 0x7fd5035ea198>\n"
     ]
    }
   ],
   "source": [
    "def choose_class(name):\n",
    "    if name == 'foo':\n",
    "        class Foo(object):\n",
    "            pass\n",
    "        return Foo # возвращает класс, а не экземпляр\n",
    "    else:\n",
    "        class Bar(object):\n",
    "            pass\n",
    "        return Bar\n",
    "    \n",
    "cls = choose_class('foo')\n",
    "print(cls)\n",
    "print(cls())"
   ]
  },
  {
   "cell_type": "markdown",
   "metadata": {
    "slideshow": {
     "slide_type": "subslide"
    }
   },
   "source": [
    "### `type()`"
   ]
  },
  {
   "cell_type": "code",
   "execution_count": 69,
   "metadata": {
    "slideshow": {
     "slide_type": "fragment"
    }
   },
   "outputs": [
    {
     "name": "stdout",
     "output_type": "stream",
     "text": [
      "<class 'int'>\n",
      "<class 'str'>\n",
      "<class 'type'>\n",
      "<class 'type'>\n"
     ]
    }
   ],
   "source": [
    "# type(object) -> the object's type\n",
    "print(type(1))\n",
    "print(type('1'))\n",
    "print(type(type))\n",
    "print(type(type(type.__class__)))"
   ]
  },
  {
   "cell_type": "code",
   "execution_count": 56,
   "metadata": {
    "slideshow": {
     "slide_type": "fragment"
    }
   },
   "outputs": [
    {
     "name": "stdout",
     "output_type": "stream",
     "text": [
      "<class '__main__.MyShinyClass'>\n",
      "<__main__.MyShinyClass object at 0x7fd5036cf978>\n"
     ]
    }
   ],
   "source": [
    "# type(name, bases, dict) -> a new type\n",
    "\n",
    "MyFlyingClass = type('MyShinyClass', (), {})\n",
    "print(MyFlyingClass)\n",
    "print(MyFlyingClass())"
   ]
  },
  {
   "cell_type": "code",
   "execution_count": 57,
   "metadata": {
    "slideshow": {
     "slide_type": "subslide"
    }
   },
   "outputs": [],
   "source": [
    "class Foo:\n",
    "    bar = True\n",
    "\n",
    "# тоже самое, что:\n",
    "\n",
    "Foo = type('Foo', (), {'bar':True})"
   ]
  },
  {
   "cell_type": "code",
   "execution_count": 58,
   "metadata": {
    "slideshow": {
     "slide_type": "fragment"
    }
   },
   "outputs": [
    {
     "data": {
      "text/plain": [
       "True"
      ]
     },
     "execution_count": 58,
     "metadata": {},
     "output_type": "execute_result"
    }
   ],
   "source": [
    "fobj = Foo()\n",
    "fobj.bar"
   ]
  },
  {
   "cell_type": "code",
   "execution_count": 59,
   "metadata": {
    "slideshow": {
     "slide_type": "fragment"
    }
   },
   "outputs": [
    {
     "data": {
      "text/plain": [
       "True"
      ]
     },
     "execution_count": 59,
     "metadata": {},
     "output_type": "execute_result"
    }
   ],
   "source": [
    "class FooChild(Foo):\n",
    "    pass\n",
    "\n",
    "fchild = FooChild()\n",
    "fchild.bar"
   ]
  },
  {
   "cell_type": "code",
   "execution_count": 60,
   "metadata": {
    "slideshow": {
     "slide_type": "slide"
    }
   },
   "outputs": [
    {
     "name": "stdout",
     "output_type": "stream",
     "text": [
      "<class '__main__.FooChild'>\n"
     ]
    }
   ],
   "source": [
    "FlyingChild = type('FooChild', (Foo,), {})\n",
    "print(FlyingChild)"
   ]
  },
  {
   "cell_type": "code",
   "execution_count": 67,
   "metadata": {
    "slideshow": {
     "slide_type": "subslide"
    }
   },
   "outputs": [
    {
     "name": "stdout",
     "output_type": "stream",
     "text": [
      "True\n"
     ]
    }
   ],
   "source": [
    "def baz(self):\n",
    "    print(self.bar)\n",
    "\n",
    "PrintAndFlyFoo = type('PrintAndFlyFoo', (Foo,), {'baz': baz})\n",
    "\n",
    "PrintAndFlyFoo().baz()"
   ]
  },
  {
   "cell_type": "code",
   "execution_count": null,
   "metadata": {
    "slideshow": {
     "slide_type": "slide"
    }
   },
   "outputs": [],
   "source": [
    "class TimeStamper(object):\n",
    "    \"\"\"\n",
    "    Add a timestamp to `event_dict`.\n",
    "    \"\"\"\n",
    "    def __new__(cls, fmt=None, utc=True, key=\"timestamp\"):\n",
    "        if fmt is None and not utc:\n",
    "            raise ValueError(\"UNIX timestamps are always UTC.\")\n",
    "            \n",
    "        now_method = getattr(datetime.datetime, \"utcnow\" if utc else \"now\")\n",
    "        \n",
    "        if fmt is None:\n",
    "            def stamper(self, _, __, event_dict):\n",
    "                event_dict[key] = time.time()\n",
    "                return event_dict\n",
    "        elif fmt.upper() == \"ISO\":\n",
    "            if utc:\n",
    "                def stamper(self, _, __, event_dict):\n",
    "                    event_dict[key] = now_method().isoformat() + \"Z\"\n",
    "                    return event_dict\n",
    "            else:\n",
    "                def stamper(self, _, __, event_dict):\n",
    "                    event_dict[key] = now_method().isoformat()\n",
    "                    return event_dict\n",
    "        else:\n",
    "            def stamper(self, _, __, event_dict):\n",
    "                event_dict[key] = now_method().strftime(fmt)\n",
    "                return event_dict\n",
    "\n",
    "        return type(\"TimeStamper\", (object,), {\"__call__\": stamper})()"
   ]
  },
  {
   "cell_type": "markdown",
   "metadata": {
    "slideshow": {
     "slide_type": "slide"
    }
   },
   "source": [
    "### So, about Metaclasses"
   ]
  },
  {
   "cell_type": "markdown",
   "metadata": {
    "slideshow": {
     "slide_type": "subslide"
    }
   },
   "source": [
    "The class creation process can be customized by passing the metaclass keyword argument in the class definition line, or by inheriting from an existing class that included such an argument. In the following example, both MyClass and MySubclass are instances of Meta"
   ]
  },
  {
   "cell_type": "code",
   "execution_count": null,
   "metadata": {
    "slideshow": {
     "slide_type": "fragment"
    }
   },
   "outputs": [],
   "source": [
    "class Meta(type):\n",
    "    pass\n",
    "\n",
    "class MyClass(metaclass=Meta):\n",
    "    pass\n",
    "\n",
    "class MySubclass(MyClass):\n",
    "    pass"
   ]
  },
  {
   "cell_type": "code",
   "execution_count": 64,
   "metadata": {
    "slideshow": {
     "slide_type": "subslide"
    }
   },
   "outputs": [],
   "source": [
    "class Meta(type):\n",
    "    pass\n",
    "\n",
    "class MyClass:\n",
    "    __metaclass__ = Meta\n",
    "    pass\n",
    "\n",
    "class MySubclass(MyClass):\n",
    "    pass"
   ]
  },
  {
   "cell_type": "code",
   "execution_count": 65,
   "metadata": {
    "slideshow": {
     "slide_type": "subslide"
    }
   },
   "outputs": [],
   "source": [
    "class Meta(type):\n",
    "    pass\n",
    "\n",
    "__metaclass__ = Meta\n",
    "\n",
    "class MyClass:\n",
    "    pass\n",
    "\n",
    "class MySubclass(MyClass):\n",
    "    pass"
   ]
  },
  {
   "cell_type": "markdown",
   "metadata": {
    "slideshow": {
     "slide_type": "slide"
    }
   },
   "source": [
    "When a class definition is executed, the following steps occur:\n",
    "\n",
    "* MRO entries are resolved;\n",
    "    * `__mro_entries__`\n",
    "* the appropriate metaclass is determined;\n",
    "    * if no bases and no explicit metaclass are given, then type() is used;\n",
    "\n",
    "    * if an explicit metaclass is given and it is not an instance of type(), then it is used directly as the metaclass;\n",
    "\n",
    "    * if an instance of type() is given as the explicit metaclass, or bases are defined, then the most derived metaclass is used.\n",
    "* the class namespace is prepared;\n",
    "    * If the metaclass has a `__prepare__` attribute, it is called as `namespace = metaclass.__prepare__(name, bases, **kwds)`\n",
    "\n",
    "* the class body is executed;\n",
    "    * ~`exec(body, globals(), namespace)`\n",
    "* the class object is created.\n",
    "    * `metaclass(name, bases, namespace, **kwds)`"
   ]
  },
  {
   "cell_type": "markdown",
   "metadata": {
    "slideshow": {
     "slide_type": "slide"
    }
   },
   "source": [
    "### Custom Metaclasses"
   ]
  },
  {
   "cell_type": "code",
   "execution_count": 68,
   "metadata": {
    "slideshow": {
     "slide_type": "fragment"
    }
   },
   "outputs": [],
   "source": [
    "class Foo:\n",
    "     pass\n",
    "\n",
    "f = Foo()"
   ]
  },
  {
   "cell_type": "markdown",
   "metadata": {
    "slideshow": {
     "slide_type": "fragment"
    }
   },
   "source": [
    "* The `__call__` method of Foo’s parent class is called. `type.__call__`\n",
    "* That `__call__` method in turn invokes the following:\n",
    "\n",
    "    * `__new__`\n",
    "    * `__init__`"
   ]
  },
  {
   "cell_type": "code",
   "execution_count": 71,
   "metadata": {
    "slideshow": {
     "slide_type": "subslide"
    }
   },
   "outputs": [
    {
     "data": {
      "text/plain": [
       "100"
      ]
     },
     "execution_count": 71,
     "metadata": {},
     "output_type": "execute_result"
    }
   ],
   "source": [
    "def new(cls):\n",
    "    x = object.__new__(cls)\n",
    "    x.attr = 100\n",
    "    return x\n",
    "\n",
    "Foo.__new__ = new\n",
    "f = Foo()\n",
    "f.attr"
   ]
  },
  {
   "cell_type": "code",
   "execution_count": 72,
   "metadata": {
    "slideshow": {
     "slide_type": "subslide"
    }
   },
   "outputs": [
    {
     "data": {
      "text/plain": [
       "100"
      ]
     },
     "execution_count": 72,
     "metadata": {},
     "output_type": "execute_result"
    }
   ],
   "source": [
    "class Meta(type):\n",
    "    def __new __(cls, name, bases, dct):\n",
    "        x = super().__new__(cls, name, bases, dct)\n",
    "        x.attr = 100\n",
    "        return x\n",
    "\n",
    "class FooMeta(metaclass=Meta):\n",
    "    pass\n",
    "\n",
    "FooMeta.attr"
   ]
  },
  {
   "cell_type": "code",
   "execution_count": 73,
   "metadata": {
    "slideshow": {
     "slide_type": "fragment"
    }
   },
   "outputs": [
    {
     "data": {
      "text/plain": [
       "100"
      ]
     },
     "execution_count": 73,
     "metadata": {},
     "output_type": "execute_result"
    }
   ],
   "source": [
    "class Boo(FooMeta):\n",
    "    pass\n",
    "\n",
    "Boo.attr"
   ]
  },
  {
   "cell_type": "markdown",
   "metadata": {
    "slideshow": {
     "slide_type": "slide"
    }
   },
   "source": [
    "### `__new__` and `__init__`"
   ]
  },
  {
   "cell_type": "code",
   "execution_count": null,
   "metadata": {
    "slideshow": {
     "slide_type": "subslide"
    }
   },
   "outputs": [],
   "source": [
    "class MetaOne(type):\n",
    "    def __new__(cls, name, bases, dict):\n",
    "        pass\n",
    "\n",
    "class MetaTwo(type):\n",
    "    def __init__(self, name, bases, dict):\n",
    "        pass"
   ]
  },
  {
   "cell_type": "markdown",
   "metadata": {
    "slideshow": {
     "slide_type": "subslide"
    }
   },
   "source": [
    "### Metaclass `__call__` method\n",
    "\n",
    "According to the official docs, we can also override other class methods by defining a custom __call__() method in the metaclass that allows custom behavior when the class is called."
   ]
  },
  {
   "cell_type": "markdown",
   "metadata": {
    "slideshow": {
     "slide_type": "subslide"
    }
   },
   "source": [
    "### Metaclass `__prepare__` method\n",
    "\n",
    "```\n",
    "Once the appropriate metaclass has been identified, then the class namespace is prepared. If the metaclass has a __prepare__ attribute, it is called as namespace = metaclass.__prepare__(name, bases, **kwds) (where the additional keyword arguments, if any, come from the class definition). If the metaclass has no __prepare__attribute, then the class namespace is initialized as an empty ordered mapping.\n",
    "```"
   ]
  },
  {
   "cell_type": "markdown",
   "metadata": {
    "slideshow": {
     "slide_type": "subslide"
    }
   },
   "source": [
    "### Django ORM based on metaclasses"
   ]
  },
  {
   "cell_type": "code",
   "execution_count": null,
   "metadata": {
    "slideshow": {
     "slide_type": "fragment"
    }
   },
   "outputs": [],
   "source": [
    "class Person(models.Model):\n",
    "    name = models.CharField(max_length=30)\n",
    "    age = models.IntegerField()"
   ]
  },
  {
   "cell_type": "markdown",
   "metadata": {
    "slideshow": {
     "slide_type": "subslide"
    }
   },
   "source": [
    "### Singleton Design using a Metaclass"
   ]
  },
  {
   "cell_type": "code",
   "execution_count": null,
   "metadata": {
    "slideshow": {
     "slide_type": "fragment"
    }
   },
   "outputs": [],
   "source": [
    "class SingletonMeta(type):\n",
    "    _instances = {}\n",
    "    def __call__(cls, *args, **kwargs):\n",
    "        if cls not in cls._instances:\n",
    "            cls._instances[cls] = super(SingletonMeta,cls).__call__(*args, **kwargs)\n",
    "        return cls._instances[cls]\n",
    "\n",
    "class SingletonClass(metaclass=SingletonMeta):\n",
    "    pass"
   ]
  },
  {
   "cell_type": "markdown",
   "metadata": {
    "slideshow": {
     "slide_type": "subslide"
    }
   },
   "source": [
    "### Зачем нам нужны метклассы ?\n",
    "Вообще обычно они нам не нужны..\n",
    "\n",
    "```\n",
    "Метаклассы это глубокая магия, о которой 99% пользователей даже не нужно задумываться. Если вы думаете, нужно ли вам их использовать — вам не нужно (люди, которым они реально нужны, точно знают, зачем они им, и не нуждаются в объяснениях, почему).\n",
    "~ Гуру Питона Тим Питерс\n",
    "```"
   ]
  },
  {
   "cell_type": "markdown",
   "metadata": {
    "slideshow": {
     "slide_type": "slide"
    }
   },
   "source": [
    "## GIL - Global Interpreter Lock"
   ]
  },
  {
   "attachments": {
    "image.png": {
     "image/png": "[encoded data removed]"
    }
   },
   "cell_type": "markdown",
   "metadata": {
    "slideshow": {
     "slide_type": "subslide"
    }
   },
   "source": [
    "![image.png](attachment:image.png)"
   ]
  },
  {
   "attachments": {
    "image.png": {
     "image/png": "[encoded data removed]"
    }
   },
   "cell_type": "markdown",
   "metadata": {
    "slideshow": {
     "slide_type": "subslide"
    }
   },
   "source": [
    "![image.png](attachment:image.png)"
   ]
  },
  {
   "cell_type": "markdown",
   "metadata": {
    "slideshow": {
     "slide_type": "subslide"
    }
   },
   "source": [
    "GIL — эта одиночный блокиратор самого интерпретатора Python. Он добавляет правило: любое выполнение байткода в Python требует блокировки интерпретатора."
   ]
  },
  {
   "cell_type": "markdown",
   "metadata": {
    "slideshow": {
     "slide_type": "fragment"
    }
   },
   "source": [
    "GIL является самым простым способом избежать конфликтов при одновременном обращении разных потоков к одним и тем же участкам памяти. Когда один поток захватывает его, GIL, работая по принципу мьютекса, блокирует остальные. Нет параллельных потоков — нет конфликтов при обращении к разделяемым объектам. Очерёдность выполнения потоков определяет интерпретатор в зависимости от реализации, переключение между потоками может происходить: когда активный поток пытается осуществить ввод-вывод, по исчерпании лимита выполненных инструкций либо по таймеру"
   ]
  },
  {
   "cell_type": "code",
   "execution_count": 1,
   "metadata": {
    "slideshow": {
     "slide_type": "subslide"
    }
   },
   "outputs": [
    {
     "data": {
      "text/plain": [
       "3"
      ]
     },
     "execution_count": 1,
     "metadata": {},
     "output_type": "execute_result"
    }
   ],
   "source": [
    "import sys\n",
    "a = []\n",
    "b = a\n",
    "sys.getrefcount(a)"
   ]
  },
  {
   "cell_type": "markdown",
   "metadata": {
    "slideshow": {
     "slide_type": "subslide"
    }
   },
   "source": [
    "#### Why GIL?"
   ]
  },
  {
   "cell_type": "markdown",
   "metadata": {
    "slideshow": {
     "slide_type": "fragment"
    }
   },
   "source": [
    "* GIL is fast, if we talk about single-thread\n",
    "* It is faster in the multi-threaded case for cpu-bound programs that do their compute-intensive work in C libraries.\n",
    "* It makes C extensions easier to write:\n",
    "* It makes wrapping C libraries easier. You don't have to worry about thread-safety. If the library is not thread-safe, you simply keep the GIL locked while you call it."
   ]
  },
  {
   "cell_type": "markdown",
   "metadata": {
    "slideshow": {
     "slide_type": "slide"
    }
   },
   "source": [
    "### Reviewing terminology"
   ]
  },
  {
   "cell_type": "markdown",
   "metadata": {
    "slideshow": {
     "slide_type": "fragment"
    }
   },
   "source": [
    "* processes and threads are independent sequences of execution. \n",
    "* difference is that\n",
    "    * threads (of the same process) run in a shared memory space\n",
    "    * processes run in separate memory spaces."
   ]
  },
  {
   "cell_type": "code",
   "execution_count": 7,
   "metadata": {
    "slideshow": {
     "slide_type": "subslide"
    }
   },
   "outputs": [
    {
     "name": "stdout",
     "output_type": "stream",
     "text": [
      "Spend time:  2.411329746246338\n"
     ]
    }
   ],
   "source": [
    "# single_threaded.py\n",
    "import time\n",
    "# from threading import Thread\n",
    "\n",
    "COUNT = 50000000\n",
    "\n",
    "def countdown(n):\n",
    "    while n > 0:\n",
    "        n -= 1\n",
    "\n",
    "start = time.time()\n",
    "countdown(COUNT)\n",
    "end = time.time()\n",
    "\n",
    "print('Spend time: ', end - start)"
   ]
  },
  {
   "cell_type": "code",
   "execution_count": 4,
   "metadata": {
    "slideshow": {
     "slide_type": "subslide"
    }
   },
   "outputs": [
    {
     "name": "stdout",
     "output_type": "stream",
     "text": [
      "Spend time:  2.1961309909820557\n"
     ]
    }
   ],
   "source": [
    "# multi_threaded.py\n",
    "import time\n",
    "from threading import Thread\n",
    "\n",
    "COUNT = 50000000\n",
    "\n",
    "def countdown(n):\n",
    "    while n > 0:\n",
    "        n -= 1\n",
    "\n",
    "t1 = Thread(target=countdown, args=(COUNT//2,))\n",
    "t2 = Thread(target=countdown, args=(COUNT//2,))\n",
    "\n",
    "start = time.time()\n",
    "t1.start()\n",
    "t2.start()\n",
    "t1.join()\n",
    "t2.join()\n",
    "end = time.time()\n",
    "\n",
    "print('Spend time: ', end - start)"
   ]
  },
  {
   "cell_type": "markdown",
   "metadata": {
    "slideshow": {
     "slide_type": "subslide"
    }
   },
   "source": [
    "До python3.2 переключение происходит по количеству выполненных инструкций. Время выполнения инструкций может сильно отличаться (сравните простое сложение и создание списка на миллион элементов)."
   ]
  },
  {
   "cell_type": "code",
   "execution_count": 10,
   "metadata": {
    "slideshow": {
     "slide_type": "fragment"
    }
   },
   "outputs": [
    {
     "name": "stderr",
     "output_type": "stream",
     "text": [
      "/home/andrey/anaconda3/lib/python3.7/site-packages/ipykernel_launcher.py:3: DeprecationWarning: sys.getcheckinterval() and sys.setcheckinterval() are deprecated.  Use sys.getswitchinterval() instead.\n",
      "  This is separate from the ipykernel package so we can avoid doing imports until\n"
     ]
    },
    {
     "data": {
      "text/plain": [
       "100"
      ]
     },
     "execution_count": 10,
     "metadata": {},
     "output_type": "execute_result"
    }
   ],
   "source": [
    "import sys\n",
    "# По умолчанию интервал выставлен в 100\n",
    "sys.getcheckinterval() "
   ]
  },
  {
   "cell_type": "code",
   "execution_count": 13,
   "metadata": {
    "slideshow": {
     "slide_type": "subslide"
    }
   },
   "outputs": [
    {
     "name": "stdout",
     "output_type": "stream",
     "text": [
      "  2           0 LOAD_CLOSURE             0 (val)\n",
      "              2 BUILD_TUPLE              1\n",
      "              4 LOAD_CONST               1 (<code object <listcomp> at 0x7f3c485a35d0, file \"<ipython-input-13-55cc1ac5f898>\", line 2>)\n",
      "              6 LOAD_CONST               2 ('f.<locals>.<listcomp>')\n",
      "              8 MAKE_FUNCTION            8\n",
      "             10 LOAD_FAST                0 (lst)\n",
      "             12 GET_ITER\n",
      "             14 CALL_FUNCTION            1\n",
      "             16 RETURN_VALUE\n",
      "\n",
      "Disassembly of <code object <listcomp> at 0x7f3c485a35d0, file \"<ipython-input-13-55cc1ac5f898>\", line 2>:\n",
      "  2           0 BUILD_LIST               0\n",
      "              2 LOAD_FAST                0 (.0)\n",
      "        >>    4 FOR_ITER                16 (to 22)\n",
      "              6 STORE_FAST               1 (i)\n",
      "              8 LOAD_FAST                1 (i)\n",
      "             10 LOAD_DEREF               0 (val)\n",
      "             12 COMPARE_OP               3 (!=)\n",
      "             14 POP_JUMP_IF_FALSE        4\n",
      "             16 LOAD_FAST                1 (i)\n",
      "             18 LIST_APPEND              2\n",
      "             20 JUMP_ABSOLUTE            4\n",
      "        >>   22 RETURN_VALUE\n"
     ]
    }
   ],
   "source": [
    "def f(lst, val):\n",
    "    return [i for i in lst if i != val]\n",
    "\n",
    "\n",
    "dis.dis(f)"
   ]
  },
  {
   "cell_type": "code",
   "execution_count": 14,
   "metadata": {
    "slideshow": {
     "slide_type": "subslide"
    }
   },
   "outputs": [
    {
     "data": {
      "text/plain": [
       "0.005"
      ]
     },
     "execution_count": 14,
     "metadata": {},
     "output_type": "execute_result"
    }
   ],
   "source": [
    "sys.getswitchinterval()"
   ]
  },
  {
   "cell_type": "markdown",
   "metadata": {
    "slideshow": {
     "slide_type": "fragment"
    }
   },
   "source": [
    "* поток, владеющий GIL, не отдает его пока об этом не попросят.\n",
    "* если уж отдал по просьбе, то подождет окончания переключения и не будет сразу же пытаться захватить GIL назад.\n",
    "* поток, у которого сразу не получилось захватить GIL, сначала выждет 5 мс и лишь потом пошлет запрос на переключение, принуждая текущего владельца освободить ценный ресурс. Таким образом переключение осуществляется не чаще чем раз в 5 мс, если только владелец не отдаст GIL добровольно перед выполнением системного вызова."
   ]
  },
  {
   "cell_type": "markdown",
   "metadata": {
    "slideshow": {
     "slide_type": "slide"
    }
   },
   "source": [
    "### Как справиться c GIL"
   ]
  },
  {
   "cell_type": "code",
   "execution_count": 15,
   "metadata": {
    "slideshow": {
     "slide_type": "subslide"
    }
   },
   "outputs": [
    {
     "name": "stdout",
     "output_type": "stream",
     "text": [
      "Spend time:  1.414212703704834\n"
     ]
    }
   ],
   "source": [
    "from multiprocessing import Pool\n",
    "import time\n",
    "\n",
    "COUNT = 50000000\n",
    "\n",
    "def countdown(n):\n",
    "    while n > 0:\n",
    "        n -= 1\n",
    "\n",
    "if __name__ == '__main__':\n",
    "    pool = Pool(processes=2)\n",
    "    start = time.time()\n",
    "    r1 = pool.apply_async(countdown, [COUNT//2])\n",
    "    r2 = pool.apply_async(countdown, [COUNT//2])\n",
    "    pool.close()\n",
    "    pool.join()\n",
    "    end = time.time()\n",
    "    print('Spend time: ', end - start)"
   ]
  },
  {
   "cell_type": "markdown",
   "metadata": {
    "slideshow": {
     "slide_type": "subslide"
    }
   },
   "source": [
    "#### Альтернативные интерпретаторы Python. \n",
    "У Python есть много разных реализаций интерпретаторов. CPython, Jyton, IronPython и PyPy, написанные на C, Java, C# и Python соответственно. GIL существует только на оригинальном интерпретаторе — на CPython."
   ]
  },
  {
   "cell_type": "markdown",
   "metadata": {
    "slideshow": {
     "slide_type": "fragment"
    }
   },
   "source": [
    "### Для IO операций GIL не страшен\n",
    "\n",
    "All of Python's blocking I/O primitives release the GIL while waiting for the I/O block to resolve"
   ]
  },
  {
   "cell_type": "code",
   "execution_count": null,
   "metadata": {
    "scrolled": true,
    "slideshow": {
     "slide_type": "subslide"
    }
   },
   "outputs": [],
   "source": [
    "import threading\n",
    "import requests\n",
    "\n",
    "urls = [...]\n",
    "\n",
    "def worker():\n",
    "    while True:\n",
    "        try:\n",
    "            url = urls.pop()\n",
    "        except IndexError:\n",
    "            break  # Done.\n",
    "\n",
    "        requests.get(url)\n",
    "\n",
    "for _ in range(10):\n",
    "    t = threading.Thread(target=worker)\n",
    "    t.start()\n",
    "    \n",
    "# Or using asyncio"
   ]
  },
  {
   "cell_type": "markdown",
   "metadata": {
    "slideshow": {
     "slide_type": "subslide"
    }
   },
   "source": [
    "Or you can write C/C++ extensions using Python API\n",
    "\n",
    "* https://docs.python.org/3/c-api/init.html"
   ]
  },
  {
   "cell_type": "markdown",
   "metadata": {
    "slideshow": {
     "slide_type": "slide"
    }
   },
   "source": [
    "### Garbage collection"
   ]
  },
  {
   "cell_type": "markdown",
   "metadata": {
    "slideshow": {
     "slide_type": "subslide"
    }
   },
   "source": [
    "#### Менеджер памяти\n",
    "\n",
    "* Python не освобождает всю память обратно операционной системе как только он удаляет какой либо объект\n",
    "* использует дополнительный менеджер памяти, предназначенный для маленьких объектов (размер которых меньше чем 512 байт)\n",
    "* Для работы с такими объектами он выделяет большие блоки памяти, в которых в дальнейшем будет хранится множество маленьких объектов.\n",
    "* если блок пуст - может вернуть его ОС\n",
    "* долгоживущее приложение может начать потреблять много памяти"
   ]
  },
  {
   "cell_type": "markdown",
   "metadata": {
    "slideshow": {
     "slide_type": "subslide"
    }
   },
   "source": [
    "#### Два алгоритма сборки мусора\n",
    "* подсчет ссылок\n",
    "* generational garbage collector"
   ]
  },
  {
   "cell_type": "markdown",
   "metadata": {
    "slideshow": {
     "slide_type": "subslide"
    }
   },
   "source": [
    "#### Подсчет ссылок\n",
    "* не может быть отключен\n",
    "* каждый объект содержит поле - счетчик ссылок на него\n",
    "* если счетчик равен 0 -> объект уничтажается"
   ]
  },
  {
   "cell_type": "code",
   "execution_count": 18,
   "metadata": {
    "slideshow": {
     "slide_type": "fragment"
    }
   },
   "outputs": [
    {
     "name": "stdout",
     "output_type": "stream",
     "text": [
      "2\n",
      "4\n",
      "2\n"
     ]
    }
   ],
   "source": [
    "foo = []\n",
    "\n",
    "# 2 ссылки, одна от переменной foo и одна от getrefcount\n",
    "print(sys.getrefcount(foo))\n",
    "\n",
    "def bar(a):\n",
    "    # 4 ссылки\n",
    "    # от foo, аргумента функции (a), getrefcount и одна от стека вызова функции\n",
    "    print(sys.getrefcount(a))\n",
    "\n",
    "bar(foo)\n",
    "# 2 ссылки, локальные ссылки внутри функции уничтожены\n",
    "print(sys.getrefcount(foo))"
   ]
  },
  {
   "cell_type": "markdown",
   "metadata": {
    "slideshow": {
     "slide_type": "subslide"
    }
   },
   "source": [
    "### generational garbage collector"
   ]
  },
  {
   "attachments": {
    "image.png": {
     "image/png": "[encoded data removed]"
    }
   },
   "cell_type": "markdown",
   "metadata": {
    "slideshow": {
     "slide_type": "fragment"
    }
   },
   "source": [
    "![image.png](attachment:image.png)"
   ]
  },
  {
   "cell_type": "code",
   "execution_count": 20,
   "metadata": {
    "slideshow": {
     "slide_type": "subslide"
    }
   },
   "outputs": [
    {
     "name": "stdout",
     "output_type": "stream",
     "text": [
      "1\n",
      "1\n"
     ]
    }
   ],
   "source": [
    "import gc\n",
    "import ctypes\n",
    "\n",
    "# используется ctypes для доступа к объектам по адресу памяти\n",
    "class PyObject(ctypes.Structure):\n",
    "    _fields_ = [(\"refcnt\", ctypes.c_long)]\n",
    "\n",
    "gc.disable()  # выключаем циклический GC\n",
    "lst = []\n",
    "lst.append(lst)\n",
    "\n",
    "# сохраняем адрес списка lst\n",
    "lst_address = id(lst)\n",
    "\n",
    "# удаляем ссылку lst\n",
    "del lst\n",
    "\n",
    "object_1 = {}\n",
    "object_2 = {}\n",
    "object_1['obj2'] = object_2\n",
    "object_2['obj1'] = object_1\n",
    "\n",
    "obj_address = id(object_1)\n",
    "\n",
    "# удаляем ссылки\n",
    "del object_1, object_2\n",
    "# раскомментируйте для запуска ручной сборки объектов с циклическими ссылками\n",
    "# gc.collect()\n",
    "\n",
    "# проверяем счетчик ссылок\n",
    "print(PyObject.from_address(obj_address).refcnt)\n",
    "print(PyObject.from_address(lst_address).refcnt)"
   ]
  },
  {
   "cell_type": "markdown",
   "metadata": {
    "slideshow": {
     "slide_type": "subslide"
    }
   },
   "source": [
    "* циклический GC не работает в режиме реального времени и запускается периодически\n",
    "* разделяет все объекты на 3 поколения\n",
    "    * Новые объекты попадают в первое поколение.\n",
    "    * Переживший сборку новый объект попадает в второе поколение \n",
    "    * Аналогично.\n",
    "* Чем выше поколение, тем режи идет сборка мусора\n",
    "* У каждого поколения есть счетчик и порог срабатывания, когда нужно запустить сборку\n",
    "* Стандартные пороги срабатывания для поколений установлены на 700, 10 и 10\n",
    "* gc следит только за container objects arrays, dictionaries, user class instances\n",
    "* GC игнорирует tuples содержащие только неизменяемые типы"
   ]
  },
  {
   "cell_type": "code",
   "execution_count": 23,
   "metadata": {
    "slideshow": {
     "slide_type": "subslide"
    }
   },
   "outputs": [
    {
     "data": {
      "text/plain": [
       "(700, 10, 10)"
      ]
     },
     "execution_count": 23,
     "metadata": {},
     "output_type": "execute_result"
    }
   ],
   "source": [
    "import gc\n",
    "\n",
    "#gc.set_threshold()\n",
    "gc.get_threshold()"
   ]
  },
  {
   "cell_type": "markdown",
   "metadata": {
    "slideshow": {
     "slide_type": "subslide"
    }
   },
   "source": [
    "### как работает алгоритм поиска циклов:\n",
    "* https://github.com/python/cpython/blob/v3.7.0/Modules/gcmodule.c#L796\n",
    "\n",
    "```\n",
    "GC итерирует каждый объект из выбранных поколений и временно удаляет все ссылки от отдельно взятого объекта (все ссылки на которые этот объект ссылается). После полного прохода, все объекты, у которых счетчик ссылок меньше двух считаются недоступными из питона и могут быть удалены.\n",
    "\n",
    "```"
   ]
  },
  {
   "cell_type": "markdown",
   "metadata": {
    "slideshow": {
     "slide_type": "slide"
    }
   },
   "source": [
    "### Weak References in python"
   ]
  },
  {
   "cell_type": "markdown",
   "metadata": {
    "slideshow": {
     "slide_type": "subslide"
    }
   },
   "source": [
    "В программировании слабая ссылка (англ. weak reference) — специфический вид ссылок на динамически создаваемые объекты в системах со сборкой мусора или с подсчётом ссылок. Отличается от строгих ссылок тем, что сборщик мусора не учитывает связь ссылки и объекта в куче при выявлении объектов, подлежащих удалению. Таким образом слабая ссылка позволяет работать с объектом как и строгая ссылка, но при необходимости объект будет удален, даже при наличии слабой ссылки на него. Обычные ссылки в контексте сборки мусора иногда именуют «сильными»."
   ]
  },
  {
   "cell_type": "markdown",
   "metadata": {
    "slideshow": {
     "slide_type": "fragment"
    }
   },
   "source": [
    "You would use weak references for expensive objects, or to avoid circle references (although the garbage collector usually does it on its own).\n",
    "\n",
    "A primary use for weak references is to implement caches or mappings holding large objects, where it’s desired that a large object not be kept alive solely because it appears in a cache or mapping."
   ]
  },
  {
   "cell_type": "code",
   "execution_count": 28,
   "metadata": {
    "slideshow": {
     "slide_type": "subslide"
    }
   },
   "outputs": [
    {
     "name": "stdout",
     "output_type": "stream",
     "text": [
      "<class 'weakref'>\n"
     ]
    }
   ],
   "source": [
    "import weakref\n",
    "import sys\n",
    "import gc\n",
    "\n",
    "\n",
    "class MyObject(object):\n",
    "    def my_method(self):\n",
    "        print('my_method was called!')\n",
    "\n",
    "obj = MyObject()\n",
    "r = weakref.ref(obj)\n",
    "print(type(r))\n",
    "\n",
    "gc.collect()\n",
    "assert r() is obj # r() allows you to access the object referenced: it's there.\n",
    "\n",
    "obj = 1 # Let's change what obj references to\n",
    "gc.collect()\n",
    "\n",
    "assert r() is None # There is no object left: it was gc'ed."
   ]
  },
  {
   "cell_type": "markdown",
   "metadata": {
    "slideshow": {
     "slide_type": "slide"
    }
   },
   "source": [
    "### Shallow and Deep copy"
   ]
  },
  {
   "cell_type": "markdown",
   "metadata": {
    "slideshow": {
     "slide_type": "subslide"
    }
   },
   "source": [
    "* A __shallow copy__ means constructing a new collection object and then populating it with references to the child objects found in the original. In essence, a shallow copy is only one level deep. The copying process does not recurse and therefore won’t create copies of the child objects themselves.\n",
    "* A __deep copy__ makes the copying process recursive. It means first constructing a new collection object and then recursively populating it with copies of the child objects found in the original. Copying an object this way walks the whole object tree to create a fully independent clone of the original object and all of its children."
   ]
  },
  {
   "cell_type": "code",
   "execution_count": 32,
   "metadata": {
    "slideshow": {
     "slide_type": "slide"
    }
   },
   "outputs": [
    {
     "data": {
      "text/plain": [
       "True"
      ]
     },
     "execution_count": 32,
     "metadata": {},
     "output_type": "execute_result"
    }
   ],
   "source": [
    "xs = [[1, 2, 3], [4, 5, 6], [7, 8, 9]]\n",
    "\n",
    "ys = list(xs)\n",
    "\n",
    "xs == ys"
   ]
  },
  {
   "cell_type": "code",
   "execution_count": 33,
   "metadata": {
    "slideshow": {
     "slide_type": "fragment"
    }
   },
   "outputs": [
    {
     "name": "stdout",
     "output_type": "stream",
     "text": [
      "[[1, 2, 3], [4, 5, 6], [7, 8, 9], ['new sublist']]\n",
      "[[1, 2, 3], [4, 5, 6], [7, 8, 9]]\n"
     ]
    }
   ],
   "source": [
    "xs.append(['new sublist'])\n",
    "print(xs)\n",
    "print(ys)"
   ]
  },
  {
   "cell_type": "code",
   "execution_count": 34,
   "metadata": {
    "slideshow": {
     "slide_type": "fragment"
    }
   },
   "outputs": [
    {
     "name": "stdout",
     "output_type": "stream",
     "text": [
      "[[1, 2, 3], ['X', 5, 6], [7, 8, 9], ['new sublist']]\n",
      "[[1, 2, 3], ['X', 5, 6], [7, 8, 9]]\n"
     ]
    }
   ],
   "source": [
    "xs[1][0] = 'X'\n",
    "\n",
    "print(xs)\n",
    "print(ys)"
   ]
  },
  {
   "cell_type": "code",
   "execution_count": 35,
   "metadata": {
    "slideshow": {
     "slide_type": "subslide"
    }
   },
   "outputs": [],
   "source": [
    "import copy\n",
    "xs = [[1, 2, 3], [4, 5, 6], [7, 8, 9]]\n",
    "zs = copy.deepcopy(xs)"
   ]
  },
  {
   "cell_type": "code",
   "execution_count": 37,
   "metadata": {
    "slideshow": {
     "slide_type": "fragment"
    }
   },
   "outputs": [
    {
     "name": "stdout",
     "output_type": "stream",
     "text": [
      "[[1, 2, 3], ['X', 5, 6], [7, 8, 9]]\n",
      "[[1, 2, 3], [4, 5, 6], [7, 8, 9]]\n"
     ]
    }
   ],
   "source": [
    "xs[1][0] = 'X'\n",
    "\n",
    "print(xs)\n",
    "print(zs)"
   ]
  },
  {
   "cell_type": "markdown",
   "metadata": {
    "slideshow": {
     "slide_type": "slide"
    }
   },
   "source": [
    "### Тестирование и отладка "
   ]
  },
  {
   "cell_type": "markdown",
   "metadata": {
    "slideshow": {
     "slide_type": "subslide"
    }
   },
   "source": [
    "### Unit Tests vs. Integration Tests"
   ]
  },
  {
   "cell_type": "markdown",
   "metadata": {
    "slideshow": {
     "slide_type": "slide"
    }
   },
   "source": [
    "* Unit testing is a practice to make sure that the function or module which you are going to implement is going to behave as expected (requirements) and also to make sure how it behaves in scenarios like boundary conditions, and invalid input.\n",
    "* A unit test checks a small component in your application.\n",
    "____\n",
    "* Testing multiple components is known as integration testing\n",
    "* An integration test checks that components in your application operate with each other.\n",
    "\n"
   ]
  },
  {
   "cell_type": "markdown",
   "metadata": {
    "slideshow": {
     "slide_type": "subslide"
    }
   },
   "source": [
    "### Asserts\n",
    "\n",
    "* Inform developers what your code expects.\n",
    "* Inform the computer what your code expects.\n",
    "* Inform the readers of your code (including yourself) what your code has achieved at some point.\n",
    "* Inform the computer what your code has achieved at some point."
   ]
  },
  {
   "cell_type": "code",
   "execution_count": 39,
   "metadata": {
    "slideshow": {
     "slide_type": "subslide"
    }
   },
   "outputs": [
    {
     "ename": "AssertionError",
     "evalue": "argument is not equal to one",
     "output_type": "error",
     "traceback": [
      "\u001b[0;31m---------------------------------------------------------------------------\u001b[0m",
      "\u001b[0;31mAssertionError\u001b[0m                            Traceback (most recent call last)",
      "\u001b[0;32m<ipython-input-39-f2e28344acd7>\u001b[0m in \u001b[0;36m<module>\u001b[0;34m\u001b[0m\n\u001b[1;32m      2\u001b[0m     \u001b[0;32massert\u001b[0m \u001b[0margument\u001b[0m \u001b[0;34m==\u001b[0m \u001b[0;36m1\u001b[0m\u001b[0;34m,\u001b[0m \u001b[0;34m'argument is not equal to one'\u001b[0m\u001b[0;34m\u001b[0m\u001b[0;34m\u001b[0m\u001b[0m\n\u001b[1;32m      3\u001b[0m \u001b[0;34m\u001b[0m\u001b[0m\n\u001b[0;32m----> 4\u001b[0;31m \u001b[0mraise_if_not_one\u001b[0m\u001b[0;34m(\u001b[0m\u001b[0;36m0\u001b[0m\u001b[0;34m)\u001b[0m\u001b[0;34m\u001b[0m\u001b[0;34m\u001b[0m\u001b[0m\n\u001b[0m",
      "\u001b[0;32m<ipython-input-39-f2e28344acd7>\u001b[0m in \u001b[0;36mraise_if_not_one\u001b[0;34m(argument)\u001b[0m\n\u001b[1;32m      1\u001b[0m \u001b[0;32mdef\u001b[0m \u001b[0mraise_if_not_one\u001b[0m\u001b[0;34m(\u001b[0m\u001b[0margument\u001b[0m\u001b[0;34m)\u001b[0m\u001b[0;34m:\u001b[0m\u001b[0;34m\u001b[0m\u001b[0;34m\u001b[0m\u001b[0m\n\u001b[0;32m----> 2\u001b[0;31m     \u001b[0;32massert\u001b[0m \u001b[0margument\u001b[0m \u001b[0;34m==\u001b[0m \u001b[0;36m1\u001b[0m\u001b[0;34m,\u001b[0m \u001b[0;34m'argument is not equal to one'\u001b[0m\u001b[0;34m\u001b[0m\u001b[0;34m\u001b[0m\u001b[0m\n\u001b[0m\u001b[1;32m      3\u001b[0m \u001b[0;34m\u001b[0m\u001b[0m\n\u001b[1;32m      4\u001b[0m \u001b[0mraise_if_not_one\u001b[0m\u001b[0;34m(\u001b[0m\u001b[0;36m0\u001b[0m\u001b[0;34m)\u001b[0m\u001b[0;34m\u001b[0m\u001b[0;34m\u001b[0m\u001b[0m\n",
      "\u001b[0;31mAssertionError\u001b[0m: argument is not equal to one"
     ]
    }
   ],
   "source": [
    "def raise_if_not_one(argument):\n",
    "    assert argument == 1, 'argument is not equal to one'\n",
    " \n",
    "raise_if_not_one(0)"
   ]
  },
  {
   "cell_type": "markdown",
   "metadata": {
    "slideshow": {
     "slide_type": "fragment"
    }
   },
   "source": [
    "* не информативно\n",
    "* можно выключить `python -O file.py`"
   ]
  },
  {
   "cell_type": "markdown",
   "metadata": {
    "slideshow": {
     "slide_type": "subslide"
    }
   },
   "source": [
    "### unittesting"
   ]
  },
  {
   "cell_type": "markdown",
   "metadata": {
    "slideshow": {
     "slide_type": "fragment"
    }
   },
   "source": [
    "OOP concepts supported by unittest framework:\n",
    "\n",
    "\n",
    "* test fixture:\n",
    "        A test fixture is used as a baseline for running tests to ensure that there is a fixed environment in which tests are run so that results are repeatable.\n",
    "        Examples :\n",
    "    * creating temporary databases.\n",
    "    * starting a server process.\n",
    "* test case:\n",
    "        A test case is a set of conditions which is used to determine whether a system under test works correctly.\n",
    "* test suite:\n",
    "        Test suite is a collection of testcases that are used to test a software program to show that it has some specified set of behaviours by executing the aggregated tests together.\n",
    "* test runner:\n",
    "        A test runner is a component which set up the execution of tests and provides the outcome to the user."
   ]
  },
  {
   "cell_type": "code",
   "execution_count": 43,
   "metadata": {
    "slideshow": {
     "slide_type": "subslide"
    }
   },
   "outputs": [
    {
     "name": "stderr",
     "output_type": "stream",
     "text": [
      ".\n",
      "----------------------------------------------------------------------\n",
      "Ran 1 test in 0.002s\n",
      "\n",
      "OK\n"
     ]
    },
    {
     "data": {
      "text/plain": [
       "<unittest.main.TestProgram at 0x7f3c39bfdc88>"
      ]
     },
     "execution_count": 43,
     "metadata": {},
     "output_type": "execute_result"
    }
   ],
   "source": [
    "import unittest \n",
    "  \n",
    "class SimpleTest(unittest.TestCase): \n",
    "  \n",
    "    # Returns True or False.  \n",
    "    def test(self):         \n",
    "        self.assertTrue(True) \n",
    "\n",
    "\n",
    "# customize tests run to be able to do so in jupyter\n",
    "\n",
    "unittest.main(argv=['first-arg-is-ignored'], exit=False)"
   ]
  },
  {
   "cell_type": "markdown",
   "metadata": {
    "slideshow": {
     "slide_type": "fragment"
    }
   },
   "source": [
    "Outcomes Possible :\n",
    "\n",
    "There are three types of possible test outcomes :\n",
    "\n",
    "* OK – This means that all the tests are passed.\n",
    "* FAIL – This means that the test did not pass and an AssertionError exception is raised.\n",
    "* ERROR – This means that the test raises an exception other than AssertionError."
   ]
  },
  {
   "cell_type": "code",
   "execution_count": 53,
   "metadata": {
    "slideshow": {
     "slide_type": "subslide"
    }
   },
   "outputs": [],
   "source": [
    "import unittest \n",
    "  \n",
    "class TestStringMethods(unittest.TestCase): \n",
    "    def setUp(self): \n",
    "        self.user = 'John', 'smith'\n",
    "    \n",
    "    def test_strings_a(self): # Returns True if the string contains 4 a. \n",
    "        self.assertEqual( 'a'*4, 'aaaa') \n",
    "     \n",
    "    def test_upper(self): # Returns True if the string is in upper case.         \n",
    "        self.assertEqual(self.user[0].upper(), 'JOHN') \n",
    "    \n",
    "    def test_isupper(self): # Returns TRUE if the string is in uppercase else returns False.       \n",
    "        self.assertTrue('FOO'.isupper()) \n",
    "        self.assertFalse('Foo'.isupper()) \n",
    "      \n",
    "    def test_strip(self): #Returns true if the string is stripped and matches the given output.        \n",
    "        s = 'waitingforhomework'\n",
    "        self.assertEqual(s.strip('waiting'), 'forhomework') \n",
    "     \n",
    "    def test_split(self): # Returns true if the string splits and matches the given output.        \n",
    "        s = 'hello world'\n",
    "        self.assertEqual(s.split(), ['hello', 'world']) \n",
    "        with self.assertRaises(TypeError): \n",
    "            s.split(2) "
   ]
  },
  {
   "cell_type": "code",
   "execution_count": 54,
   "metadata": {
    "scrolled": true,
    "slideshow": {
     "slide_type": "subslide"
    }
   },
   "outputs": [
    {
     "name": "stderr",
     "output_type": "stream",
     "text": [
      "test (__main__.SimpleTest) ... ok\n",
      "test_isupper (__main__.TestStringMethods) ... ok\n",
      "test_split (__main__.TestStringMethods) ... ok\n",
      "test_strings_a (__main__.TestStringMethods) ... ok\n",
      "test_strip (__main__.TestStringMethods) ... ok\n",
      "test_upper (__main__.TestStringMethods) ... ok\n",
      "\n",
      "----------------------------------------------------------------------\n",
      "Ran 6 tests in 0.009s\n",
      "\n",
      "OK\n"
     ]
    },
    {
     "data": {
      "text/plain": [
       "<unittest.main.TestProgram at 0x7f3c381b4358>"
      ]
     },
     "execution_count": 54,
     "metadata": {},
     "output_type": "execute_result"
    }
   ],
   "source": [
    "unittest.main(argv=['first-arg-is-ignored'], exit=False, verbosity=3)"
   ]
  },
  {
   "cell_type": "markdown",
   "metadata": {
    "slideshow": {
     "slide_type": "slide"
    }
   },
   "source": [
    "### HomeWork"
   ]
  },
  {
   "cell_type": "code",
   "execution_count": null,
   "metadata": {
    "slideshow": {
     "slide_type": "slide"
    }
   },
   "outputs": [],
   "source": [
    "Реализовать такой метакласс, что экземпляры класса созданного с помощью него\n",
    "будут удовлетворять следующим требованиям:\n",
    "\n",
    "* объекты созданные с одинаковыми аттрибутами будут одним и тем же объектом\n",
    "* объекты созданные с разными аттрибутами будут разными объектами\n",
    "* у любого объекта есть мозможность получить доступ к другим объектам\n",
    "    того же класса\n",
    "\n",
    "\n",
    ">>> unit1 = SiamObj('1', '2', a=1)\n",
    ">>> unit2 = SiamObj('1', '2', a=1)\n",
    ">>> unit1 is unit2\n",
    "True\n",
    ">>> unit3 = SiamObj('2', '2', a=1)\n",
    ">>> unit3.connect('1', '2', 1).a = 2\n",
    ">>> unit2.a == 2\n",
    "True\n",
    ">>> pool = unit3.pool\n",
    ">>> print(len(pool))\n",
    "2\n",
    ">>> del unit3\n",
    ">>> print(len(pool))\n",
    "1"
   ]
  },
  {
   "cell_type": "code",
   "execution_count": null,
   "metadata": {
    "slideshow": {
     "slide_type": "slide"
    }
   },
   "outputs": [],
   "source": [
    "\"\"\"\n",
    "Написать свое property c кэшем и таймаутом\n",
    "полностью повторяет поведение стандартной property за исключением:\n",
    "    * хранит результат работы метода некоторое время, которое передается\n",
    "      параметром в инициализацию проперти\n",
    "    * пересчитывает значение, если таймер истек\n",
    "\n",
    "\"\"\"\n",
    "import time\n",
    "import uuid\n",
    "\n",
    "\n",
    "class Message:\n",
    "    @timer_property(t=10) # sec\n",
    "    def msg(self):\n",
    "        self._msg = self.get_message()\n",
    "        return self._msg\n",
    "\n",
    "    @msg.setter # reset timer also\n",
    "    def msg(self, param):\n",
    "        self._msg = param\n",
    "\n",
    "    def get_message(self):\n",
    "        \"\"\"\n",
    "        Return random string\n",
    "        \"\"\"\n",
    "        return uuid.uuid4().get_hex()\n",
    "\n",
    "if __name__ == '__main__':\n",
    "    m = Message()\n",
    "    initial = m.read\n",
    "    assert initial is m.read\n",
    "    time.sleep(10)\n",
    "    assert initial is not m.read\n"
   ]
  },
  {
   "cell_type": "markdown",
   "metadata": {
    "slideshow": {
     "slide_type": "slide"
    }
   },
   "source": [
    "Написать тесты (pytest or unittest) к предыдущим 2 заданиям, запустив которые, я бы смог бы проверить их корректность\n"
   ]
  }
 ],
 "metadata": {
  "celltoolbar": "Slideshow",
  "kernelspec": {
   "display_name": "Python 3",
   "language": "python",
   "name": "python3"
  },
  "language_info": {
   "codemirror_mode": {
    "name": "ipython",
    "version": 3
   },
   "file_extension": ".py",
   "mimetype": "text/x-python",
   "name": "python",
   "nbconvert_exporter": "python",
   "pygments_lexer": "ipython3",
   "version": "3.7.3"
  }
 },
 "nbformat": 4,
 "nbformat_minor": 2
}
